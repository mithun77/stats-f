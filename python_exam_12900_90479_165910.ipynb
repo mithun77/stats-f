{
 "cells": [
  {
   "cell_type": "markdown",
   "metadata": {
    "colab_type": "text",
    "id": "JwGL6yKJJ5jk"
   },
   "source": [
    "# STATISTICS FINAL EXAM"
   ]
  },
  {
   "cell_type": "markdown",
   "metadata": {
    "colab_type": "text",
    "id": "PHu2_qfuJ5jm"
   },
   "source": [
    "**TOTAL MARKS:70**                                              \t                                     \n",
    "\n",
    "**DURATION: 3 HOURS**"
   ]
  },
  {
   "cell_type": "markdown",
   "metadata": {
    "colab_type": "text",
    "id": "uZUSpXDJJ5jo"
   },
   "source": [
    "### Three datasets are combined in a single CSV file. \n",
    "\n",
    "### Description of the datasets: \n",
    "\n",
    "\n",
    "#### Online_Streaming:\n",
    "Online_Streaming contains information about \n",
    "\n",
    "    #### Age\n",
    "    #### Preference\n",
    "\n",
    "\n",
    "\n",
    "#### Admission dataset :     \n",
    "The data set consists of complete educational details of students right from their schooling to MBA and previous work experience.\n",
    "\n",
    "    #### SlNo \n",
    "    #### Gender\n",
    "    #### Percent_SSC    \n",
    "    #### Board_SSC   \n",
    "    #### Percent_HSC   \n",
    "    #### Board_HSC    \n",
    "    #### Stream_HSC   \n",
    "    #### Percent_Degree   \n",
    "    #### Course_Degree   \n",
    "    #### Experience_Yrs    \n",
    "    #### Entrance_Test    \n",
    "    #### Percentile_ET    \n",
    "    #### Percent_MBA    \n",
    "    #### Specialization_MBA    \n",
    "    #### Marks_Communication    \n",
    "    #### Marks_Projectwork    \n",
    "    #### Marks_BOCA    \n",
    "    #### Placement    \n",
    "    #### Salary\n",
    "\n",
    "    \n",
    "#### Outlet Sales :\n",
    "Outlet Sales' contains information about,\n",
    "\n",
    "    #### Item_Identifier\n",
    "    #### Item_Weight\n",
    "    #### Item_Fat_Content\n",
    "    #### Item_Visibility\n",
    "    #### Item_Type\n",
    "    #### Item_MRP\n",
    "    #### Outlet_Identifier\n",
    "    #### Outlet_Establishment_Year\n",
    "    #### Outlet_Size\n",
    "    #### Outlet_Location_Type\n",
    "    #### Outlet_Type\n",
    "    #### Item_Outlet_Sales\n"
   ]
  },
  {
   "cell_type": "markdown",
   "metadata": {},
   "source": [
    "## Kindly change the below cells from markdown to code and execute it "
   ]
  },
  {
   "cell_type": "code",
   "execution_count": 5,
   "metadata": {
    "colab": {},
    "colab_type": "code",
    "id": "kbEjlC3RJ5jq",
    "outputId": "4e92bc0a-2b6c-423e-909b-029d685e7755"
   },
   "outputs": [
    {
     "data": {
      "text/html": [
       "<div>\n",
       "<style scoped>\n",
       "    .dataframe tbody tr th:only-of-type {\n",
       "        vertical-align: middle;\n",
       "    }\n",
       "\n",
       "    .dataframe tbody tr th {\n",
       "        vertical-align: top;\n",
       "    }\n",
       "\n",
       "    .dataframe thead th {\n",
       "        text-align: right;\n",
       "    }\n",
       "</style>\n",
       "<table border=\"1\" class=\"dataframe\">\n",
       "  <thead>\n",
       "    <tr style=\"text-align: right;\">\n",
       "      <th></th>\n",
       "      <th>Age</th>\n",
       "      <th>Preference</th>\n",
       "      <th>SlNo</th>\n",
       "      <th>Gender</th>\n",
       "      <th>Percent_SSC</th>\n",
       "      <th>Board_SSC</th>\n",
       "      <th>Percent_HSC</th>\n",
       "      <th>Board_HSC</th>\n",
       "      <th>Stream_HSC</th>\n",
       "      <th>Percent_Degree</th>\n",
       "      <th>...</th>\n",
       "      <th>Item_Fat_Content</th>\n",
       "      <th>Item_Visibility</th>\n",
       "      <th>Item_Type</th>\n",
       "      <th>Item_MRP</th>\n",
       "      <th>Outlet_Identifier</th>\n",
       "      <th>Outlet_Establishment_Year</th>\n",
       "      <th>Outlet_Size</th>\n",
       "      <th>Outlet_Location_Type</th>\n",
       "      <th>Outlet_Type</th>\n",
       "      <th>Item_Outlet_Sales</th>\n",
       "    </tr>\n",
       "  </thead>\n",
       "  <tbody>\n",
       "    <tr>\n",
       "      <th>0</th>\n",
       "      <td>Teen</td>\n",
       "      <td>Yes</td>\n",
       "      <td>1.0</td>\n",
       "      <td>M</td>\n",
       "      <td>62.00</td>\n",
       "      <td>Others</td>\n",
       "      <td>88.00</td>\n",
       "      <td>Others</td>\n",
       "      <td>Commerce</td>\n",
       "      <td>52.00</td>\n",
       "      <td>...</td>\n",
       "      <td>Low Fat</td>\n",
       "      <td>0.016047</td>\n",
       "      <td>Dairy</td>\n",
       "      <td>249.8092</td>\n",
       "      <td>OUT049</td>\n",
       "      <td>1999</td>\n",
       "      <td>Medium</td>\n",
       "      <td>Tier 1</td>\n",
       "      <td>Supermarket Type1</td>\n",
       "      <td>3735.1380</td>\n",
       "    </tr>\n",
       "    <tr>\n",
       "      <th>1</th>\n",
       "      <td>Teen</td>\n",
       "      <td>Yes</td>\n",
       "      <td>2.0</td>\n",
       "      <td>M</td>\n",
       "      <td>76.33</td>\n",
       "      <td>ICSE</td>\n",
       "      <td>75.33</td>\n",
       "      <td>Others</td>\n",
       "      <td>Science</td>\n",
       "      <td>75.48</td>\n",
       "      <td>...</td>\n",
       "      <td>Regular</td>\n",
       "      <td>0.019278</td>\n",
       "      <td>Soft Drinks</td>\n",
       "      <td>48.2692</td>\n",
       "      <td>OUT018</td>\n",
       "      <td>2009</td>\n",
       "      <td>Medium</td>\n",
       "      <td>Tier 3</td>\n",
       "      <td>Supermarket Type2</td>\n",
       "      <td>443.4228</td>\n",
       "    </tr>\n",
       "    <tr>\n",
       "      <th>2</th>\n",
       "      <td>Teen</td>\n",
       "      <td>Yes</td>\n",
       "      <td>3.0</td>\n",
       "      <td>M</td>\n",
       "      <td>72.00</td>\n",
       "      <td>Others</td>\n",
       "      <td>78.00</td>\n",
       "      <td>Others</td>\n",
       "      <td>Commerce</td>\n",
       "      <td>66.63</td>\n",
       "      <td>...</td>\n",
       "      <td>Low Fat</td>\n",
       "      <td>0.016760</td>\n",
       "      <td>Meat</td>\n",
       "      <td>141.6180</td>\n",
       "      <td>OUT049</td>\n",
       "      <td>1999</td>\n",
       "      <td>Medium</td>\n",
       "      <td>Tier 1</td>\n",
       "      <td>Supermarket Type1</td>\n",
       "      <td>2097.2700</td>\n",
       "    </tr>\n",
       "    <tr>\n",
       "      <th>3</th>\n",
       "      <td>Teen</td>\n",
       "      <td>Yes</td>\n",
       "      <td>4.0</td>\n",
       "      <td>M</td>\n",
       "      <td>60.00</td>\n",
       "      <td>CBSE</td>\n",
       "      <td>63.00</td>\n",
       "      <td>CBSE</td>\n",
       "      <td>Arts</td>\n",
       "      <td>58.00</td>\n",
       "      <td>...</td>\n",
       "      <td>Regular</td>\n",
       "      <td>0.000000</td>\n",
       "      <td>Fruits and Vegetables</td>\n",
       "      <td>182.0950</td>\n",
       "      <td>OUT010</td>\n",
       "      <td>1998</td>\n",
       "      <td>NaN</td>\n",
       "      <td>Tier 3</td>\n",
       "      <td>Grocery Store</td>\n",
       "      <td>732.3800</td>\n",
       "    </tr>\n",
       "    <tr>\n",
       "      <th>4</th>\n",
       "      <td>Teen</td>\n",
       "      <td>Yes</td>\n",
       "      <td>5.0</td>\n",
       "      <td>M</td>\n",
       "      <td>61.00</td>\n",
       "      <td>CBSE</td>\n",
       "      <td>55.00</td>\n",
       "      <td>ISC</td>\n",
       "      <td>Science</td>\n",
       "      <td>54.00</td>\n",
       "      <td>...</td>\n",
       "      <td>Low Fat</td>\n",
       "      <td>0.000000</td>\n",
       "      <td>Household</td>\n",
       "      <td>53.8614</td>\n",
       "      <td>OUT013</td>\n",
       "      <td>1987</td>\n",
       "      <td>High</td>\n",
       "      <td>Tier 3</td>\n",
       "      <td>Supermarket Type1</td>\n",
       "      <td>994.7052</td>\n",
       "    </tr>\n",
       "  </tbody>\n",
       "</table>\n",
       "<p>5 rows × 33 columns</p>\n",
       "</div>"
      ],
      "text/plain": [
       "    Age Preference  SlNo Gender  Percent_SSC Board_SSC  Percent_HSC Board_HSC  \\\n",
       "0  Teen        Yes   1.0      M        62.00    Others        88.00    Others   \n",
       "1  Teen        Yes   2.0      M        76.33      ICSE        75.33    Others   \n",
       "2  Teen        Yes   3.0      M        72.00    Others        78.00    Others   \n",
       "3  Teen        Yes   4.0      M        60.00      CBSE        63.00      CBSE   \n",
       "4  Teen        Yes   5.0      M        61.00      CBSE        55.00       ISC   \n",
       "\n",
       "  Stream_HSC  Percent_Degree  ... Item_Fat_Content  Item_Visibility  \\\n",
       "0   Commerce           52.00  ...          Low Fat         0.016047   \n",
       "1    Science           75.48  ...          Regular         0.019278   \n",
       "2   Commerce           66.63  ...          Low Fat         0.016760   \n",
       "3       Arts           58.00  ...          Regular         0.000000   \n",
       "4    Science           54.00  ...          Low Fat         0.000000   \n",
       "\n",
       "               Item_Type  Item_MRP  Outlet_Identifier  \\\n",
       "0                  Dairy  249.8092             OUT049   \n",
       "1            Soft Drinks   48.2692             OUT018   \n",
       "2                   Meat  141.6180             OUT049   \n",
       "3  Fruits and Vegetables  182.0950             OUT010   \n",
       "4              Household   53.8614             OUT013   \n",
       "\n",
       "  Outlet_Establishment_Year  Outlet_Size  Outlet_Location_Type  \\\n",
       "0                      1999       Medium                Tier 1   \n",
       "1                      2009       Medium                Tier 3   \n",
       "2                      1999       Medium                Tier 1   \n",
       "3                      1998          NaN                Tier 3   \n",
       "4                      1987         High                Tier 3   \n",
       "\n",
       "         Outlet_Type Item_Outlet_Sales  \n",
       "0  Supermarket Type1         3735.1380  \n",
       "1  Supermarket Type2          443.4228  \n",
       "2  Supermarket Type1         2097.2700  \n",
       "3      Grocery Store          732.3800  \n",
       "4  Supermarket Type1          994.7052  \n",
       "\n",
       "[5 rows x 33 columns]"
      ]
     },
     "execution_count": 5,
     "metadata": {},
     "output_type": "execute_result"
    }
   ],
   "source": [
    "import pandas as pd\n",
    "\n",
    "import pandas as pd\n",
    "import csv\n",
    "with open(\"data_set.csv\",\"r\")as file:\n",
    "    reader=csv.reader(file)\n",
    "data=pd.read_csv(\"data_set.csv\")\n",
    "data.head()"
   ]
  },
  {
   "cell_type": "code",
   "execution_count": 12,
   "metadata": {
    "colab": {},
    "colab_type": "code",
    "id": "GKivZPUOJ5j3",
    "outputId": "689865f5-f299-448d-9ddf-a4418c31be2c"
   },
   "outputs": [
    {
     "data": {
      "text/html": [
       "<div>\n",
       "<style scoped>\n",
       "    .dataframe tbody tr th:only-of-type {\n",
       "        vertical-align: middle;\n",
       "    }\n",
       "\n",
       "    .dataframe tbody tr th {\n",
       "        vertical-align: top;\n",
       "    }\n",
       "\n",
       "    .dataframe thead th {\n",
       "        text-align: right;\n",
       "    }\n",
       "</style>\n",
       "<table border=\"1\" class=\"dataframe\">\n",
       "  <thead>\n",
       "    <tr style=\"text-align: right;\">\n",
       "      <th></th>\n",
       "      <th>Age</th>\n",
       "      <th>Preference</th>\n",
       "    </tr>\n",
       "  </thead>\n",
       "  <tbody>\n",
       "    <tr>\n",
       "      <th>80</th>\n",
       "      <td>Senior Citizen</td>\n",
       "      <td>No</td>\n",
       "    </tr>\n",
       "    <tr>\n",
       "      <th>75</th>\n",
       "      <td>Senior Citizen</td>\n",
       "      <td>Yes</td>\n",
       "    </tr>\n",
       "    <tr>\n",
       "      <th>88</th>\n",
       "      <td>Senior Citizen</td>\n",
       "      <td>Yes</td>\n",
       "    </tr>\n",
       "    <tr>\n",
       "      <th>60</th>\n",
       "      <td>Adult</td>\n",
       "      <td>No</td>\n",
       "    </tr>\n",
       "    <tr>\n",
       "      <th>36</th>\n",
       "      <td>Teen</td>\n",
       "      <td>Yes</td>\n",
       "    </tr>\n",
       "  </tbody>\n",
       "</table>\n",
       "</div>"
      ],
      "text/plain": [
       "               Age Preference\n",
       "80  Senior Citizen         No\n",
       "75  Senior Citizen        Yes\n",
       "88  Senior Citizen        Yes\n",
       "60           Adult         No\n",
       "36            Teen        Yes"
      ]
     },
     "execution_count": 12,
     "metadata": {},
     "output_type": "execute_result"
    }
   ],
   "source": [
    "Online = data.iloc[:99,:2]\n",
    "Online.sample(5)"
   ]
  },
  {
   "cell_type": "code",
   "execution_count": 14,
   "metadata": {
    "colab": {},
    "colab_type": "code",
    "id": "kbQ1YtxeJ5j-",
    "outputId": "6d57bda3-9b08-43d5-d121-c5c95d943b11"
   },
   "outputs": [
    {
     "data": {
      "text/html": [
       "<div>\n",
       "<style scoped>\n",
       "    .dataframe tbody tr th:only-of-type {\n",
       "        vertical-align: middle;\n",
       "    }\n",
       "\n",
       "    .dataframe tbody tr th {\n",
       "        vertical-align: top;\n",
       "    }\n",
       "\n",
       "    .dataframe thead th {\n",
       "        text-align: right;\n",
       "    }\n",
       "</style>\n",
       "<table border=\"1\" class=\"dataframe\">\n",
       "  <thead>\n",
       "    <tr style=\"text-align: right;\">\n",
       "      <th></th>\n",
       "      <th>SlNo</th>\n",
       "      <th>Gender</th>\n",
       "      <th>Percent_SSC</th>\n",
       "      <th>Board_SSC</th>\n",
       "      <th>Percent_HSC</th>\n",
       "      <th>Board_HSC</th>\n",
       "      <th>Stream_HSC</th>\n",
       "      <th>Percent_Degree</th>\n",
       "      <th>Course_Degree</th>\n",
       "      <th>Experience_Yrs</th>\n",
       "      <th>Entrance_Test</th>\n",
       "      <th>Percentile_ET</th>\n",
       "      <th>Percent_MBA</th>\n",
       "      <th>Specialization_MBA</th>\n",
       "      <th>Marks_Communication</th>\n",
       "      <th>Marks_Projectwork</th>\n",
       "      <th>Marks_BOCA</th>\n",
       "      <th>Placement</th>\n",
       "      <th>Salary</th>\n",
       "    </tr>\n",
       "  </thead>\n",
       "  <tbody>\n",
       "    <tr>\n",
       "      <th>348</th>\n",
       "      <td>349.0</td>\n",
       "      <td>F</td>\n",
       "      <td>66.00</td>\n",
       "      <td>ICSE</td>\n",
       "      <td>80.0</td>\n",
       "      <td>ISC</td>\n",
       "      <td>Commerce</td>\n",
       "      <td>64.00</td>\n",
       "      <td>Management</td>\n",
       "      <td>0.0</td>\n",
       "      <td>NaN</td>\n",
       "      <td>0.00</td>\n",
       "      <td>62.95</td>\n",
       "      <td>Marketing &amp; Finance</td>\n",
       "      <td>65.0</td>\n",
       "      <td>71.0</td>\n",
       "      <td>54.0</td>\n",
       "      <td>Placed</td>\n",
       "      <td>264000.0</td>\n",
       "    </tr>\n",
       "    <tr>\n",
       "      <th>161</th>\n",
       "      <td>162.0</td>\n",
       "      <td>M</td>\n",
       "      <td>54.16</td>\n",
       "      <td>ICSE</td>\n",
       "      <td>57.4</td>\n",
       "      <td>ISC</td>\n",
       "      <td>Commerce</td>\n",
       "      <td>54.52</td>\n",
       "      <td>Management</td>\n",
       "      <td>1.0</td>\n",
       "      <td>MAT</td>\n",
       "      <td>22.95</td>\n",
       "      <td>58.00</td>\n",
       "      <td>Marketing &amp; Finance</td>\n",
       "      <td>55.0</td>\n",
       "      <td>62.0</td>\n",
       "      <td>65.0</td>\n",
       "      <td>Not Placed</td>\n",
       "      <td>0.0</td>\n",
       "    </tr>\n",
       "    <tr>\n",
       "      <th>7</th>\n",
       "      <td>8.0</td>\n",
       "      <td>M</td>\n",
       "      <td>68.00</td>\n",
       "      <td>ICSE</td>\n",
       "      <td>77.0</td>\n",
       "      <td>ISC</td>\n",
       "      <td>Commerce</td>\n",
       "      <td>72.50</td>\n",
       "      <td>Management</td>\n",
       "      <td>0.0</td>\n",
       "      <td>MAT</td>\n",
       "      <td>43.12</td>\n",
       "      <td>57.23</td>\n",
       "      <td>Marketing &amp; Finance</td>\n",
       "      <td>74.0</td>\n",
       "      <td>72.0</td>\n",
       "      <td>50.0</td>\n",
       "      <td>Placed</td>\n",
       "      <td>235000.0</td>\n",
       "    </tr>\n",
       "    <tr>\n",
       "      <th>322</th>\n",
       "      <td>323.0</td>\n",
       "      <td>F</td>\n",
       "      <td>85.00</td>\n",
       "      <td>ICSE</td>\n",
       "      <td>67.0</td>\n",
       "      <td>CBSE</td>\n",
       "      <td>Science</td>\n",
       "      <td>76.00</td>\n",
       "      <td>Arts</td>\n",
       "      <td>0.0</td>\n",
       "      <td>MAT</td>\n",
       "      <td>82.00</td>\n",
       "      <td>71.43</td>\n",
       "      <td>Marketing &amp; HR</td>\n",
       "      <td>68.0</td>\n",
       "      <td>75.0</td>\n",
       "      <td>80.0</td>\n",
       "      <td>Placed</td>\n",
       "      <td>252000.0</td>\n",
       "    </tr>\n",
       "    <tr>\n",
       "      <th>313</th>\n",
       "      <td>314.0</td>\n",
       "      <td>F</td>\n",
       "      <td>60.00</td>\n",
       "      <td>Others</td>\n",
       "      <td>57.0</td>\n",
       "      <td>Others</td>\n",
       "      <td>Science</td>\n",
       "      <td>60.00</td>\n",
       "      <td>Science</td>\n",
       "      <td>0.0</td>\n",
       "      <td>NaN</td>\n",
       "      <td>0.00</td>\n",
       "      <td>59.15</td>\n",
       "      <td>Marketing &amp; Finance</td>\n",
       "      <td>50.0</td>\n",
       "      <td>65.0</td>\n",
       "      <td>63.0</td>\n",
       "      <td>Placed</td>\n",
       "      <td>220000.0</td>\n",
       "    </tr>\n",
       "  </tbody>\n",
       "</table>\n",
       "</div>"
      ],
      "text/plain": [
       "      SlNo Gender  Percent_SSC Board_SSC  Percent_HSC Board_HSC Stream_HSC  \\\n",
       "348  349.0      F        66.00      ICSE         80.0       ISC   Commerce   \n",
       "161  162.0      M        54.16      ICSE         57.4       ISC   Commerce   \n",
       "7      8.0      M        68.00      ICSE         77.0       ISC   Commerce   \n",
       "322  323.0      F        85.00      ICSE         67.0      CBSE    Science   \n",
       "313  314.0      F        60.00    Others         57.0    Others    Science   \n",
       "\n",
       "     Percent_Degree Course_Degree  Experience_Yrs Entrance_Test  \\\n",
       "348           64.00    Management             0.0           NaN   \n",
       "161           54.52    Management             1.0           MAT   \n",
       "7             72.50    Management             0.0           MAT   \n",
       "322           76.00          Arts             0.0           MAT   \n",
       "313           60.00       Science             0.0           NaN   \n",
       "\n",
       "     Percentile_ET  Percent_MBA   Specialization_MBA  Marks_Communication  \\\n",
       "348           0.00        62.95  Marketing & Finance                 65.0   \n",
       "161          22.95        58.00  Marketing & Finance                 55.0   \n",
       "7            43.12        57.23  Marketing & Finance                 74.0   \n",
       "322          82.00        71.43       Marketing & HR                 68.0   \n",
       "313           0.00        59.15  Marketing & Finance                 50.0   \n",
       "\n",
       "     Marks_Projectwork  Marks_BOCA   Placement    Salary  \n",
       "348               71.0        54.0      Placed  264000.0  \n",
       "161               62.0        65.0  Not Placed       0.0  \n",
       "7                 72.0        50.0      Placed  235000.0  \n",
       "322               75.0        80.0      Placed  252000.0  \n",
       "313               65.0        63.0      Placed  220000.0  "
      ]
     },
     "execution_count": 14,
     "metadata": {},
     "output_type": "execute_result"
    }
   ],
   "source": [
    "Admission = data.iloc[:391,2:21]\n",
    "Admission.sample(5)"
   ]
  },
  {
   "cell_type": "code",
   "execution_count": 8,
   "metadata": {
    "colab": {},
    "colab_type": "code",
    "id": "saP0PbuYJ5kG",
    "outputId": "0af730f1-019c-40e6-867e-bc0bd537ab1b"
   },
   "outputs": [
    {
     "data": {
      "text/html": [
       "<div>\n",
       "<style scoped>\n",
       "    .dataframe tbody tr th:only-of-type {\n",
       "        vertical-align: middle;\n",
       "    }\n",
       "\n",
       "    .dataframe tbody tr th {\n",
       "        vertical-align: top;\n",
       "    }\n",
       "\n",
       "    .dataframe thead th {\n",
       "        text-align: right;\n",
       "    }\n",
       "</style>\n",
       "<table border=\"1\" class=\"dataframe\">\n",
       "  <thead>\n",
       "    <tr style=\"text-align: right;\">\n",
       "      <th></th>\n",
       "      <th>Item_Identifier</th>\n",
       "      <th>Item_Weight</th>\n",
       "      <th>Item_Fat_Content</th>\n",
       "      <th>Item_Visibility</th>\n",
       "      <th>Item_Type</th>\n",
       "      <th>Item_MRP</th>\n",
       "      <th>Outlet_Identifier</th>\n",
       "      <th>Outlet_Establishment_Year</th>\n",
       "      <th>Outlet_Size</th>\n",
       "      <th>Outlet_Location_Type</th>\n",
       "      <th>Outlet_Type</th>\n",
       "      <th>Item_Outlet_Sales</th>\n",
       "    </tr>\n",
       "  </thead>\n",
       "  <tbody>\n",
       "    <tr>\n",
       "      <th>0</th>\n",
       "      <td>FDA15</td>\n",
       "      <td>9.30</td>\n",
       "      <td>Low Fat</td>\n",
       "      <td>0.016047</td>\n",
       "      <td>Dairy</td>\n",
       "      <td>249.8092</td>\n",
       "      <td>OUT049</td>\n",
       "      <td>1999</td>\n",
       "      <td>Medium</td>\n",
       "      <td>Tier 1</td>\n",
       "      <td>Supermarket Type1</td>\n",
       "      <td>3735.1380</td>\n",
       "    </tr>\n",
       "    <tr>\n",
       "      <th>1</th>\n",
       "      <td>DRC01</td>\n",
       "      <td>5.92</td>\n",
       "      <td>Regular</td>\n",
       "      <td>0.019278</td>\n",
       "      <td>Soft Drinks</td>\n",
       "      <td>48.2692</td>\n",
       "      <td>OUT018</td>\n",
       "      <td>2009</td>\n",
       "      <td>Medium</td>\n",
       "      <td>Tier 3</td>\n",
       "      <td>Supermarket Type2</td>\n",
       "      <td>443.4228</td>\n",
       "    </tr>\n",
       "    <tr>\n",
       "      <th>2</th>\n",
       "      <td>FDN15</td>\n",
       "      <td>17.50</td>\n",
       "      <td>Low Fat</td>\n",
       "      <td>0.016760</td>\n",
       "      <td>Meat</td>\n",
       "      <td>141.6180</td>\n",
       "      <td>OUT049</td>\n",
       "      <td>1999</td>\n",
       "      <td>Medium</td>\n",
       "      <td>Tier 1</td>\n",
       "      <td>Supermarket Type1</td>\n",
       "      <td>2097.2700</td>\n",
       "    </tr>\n",
       "    <tr>\n",
       "      <th>3</th>\n",
       "      <td>FDX07</td>\n",
       "      <td>19.20</td>\n",
       "      <td>Regular</td>\n",
       "      <td>0.000000</td>\n",
       "      <td>Fruits and Vegetables</td>\n",
       "      <td>182.0950</td>\n",
       "      <td>OUT010</td>\n",
       "      <td>1998</td>\n",
       "      <td>NaN</td>\n",
       "      <td>Tier 3</td>\n",
       "      <td>Grocery Store</td>\n",
       "      <td>732.3800</td>\n",
       "    </tr>\n",
       "    <tr>\n",
       "      <th>4</th>\n",
       "      <td>NCD19</td>\n",
       "      <td>8.93</td>\n",
       "      <td>Low Fat</td>\n",
       "      <td>0.000000</td>\n",
       "      <td>Household</td>\n",
       "      <td>53.8614</td>\n",
       "      <td>OUT013</td>\n",
       "      <td>1987</td>\n",
       "      <td>High</td>\n",
       "      <td>Tier 3</td>\n",
       "      <td>Supermarket Type1</td>\n",
       "      <td>994.7052</td>\n",
       "    </tr>\n",
       "  </tbody>\n",
       "</table>\n",
       "</div>"
      ],
      "text/plain": [
       "  Item_Identifier  Item_Weight Item_Fat_Content  Item_Visibility  \\\n",
       "0           FDA15         9.30          Low Fat         0.016047   \n",
       "1           DRC01         5.92          Regular         0.019278   \n",
       "2           FDN15        17.50          Low Fat         0.016760   \n",
       "3           FDX07        19.20          Regular         0.000000   \n",
       "4           NCD19         8.93          Low Fat         0.000000   \n",
       "\n",
       "               Item_Type  Item_MRP Outlet_Identifier  \\\n",
       "0                  Dairy  249.8092            OUT049   \n",
       "1            Soft Drinks   48.2692            OUT018   \n",
       "2                   Meat  141.6180            OUT049   \n",
       "3  Fruits and Vegetables  182.0950            OUT010   \n",
       "4              Household   53.8614            OUT013   \n",
       "\n",
       "   Outlet_Establishment_Year Outlet_Size Outlet_Location_Type  \\\n",
       "0                       1999      Medium               Tier 1   \n",
       "1                       2009      Medium               Tier 3   \n",
       "2                       1999      Medium               Tier 1   \n",
       "3                       1998         NaN               Tier 3   \n",
       "4                       1987        High               Tier 3   \n",
       "\n",
       "         Outlet_Type  Item_Outlet_Sales  \n",
       "0  Supermarket Type1          3735.1380  \n",
       "1  Supermarket Type2           443.4228  \n",
       "2  Supermarket Type1          2097.2700  \n",
       "3      Grocery Store           732.3800  \n",
       "4  Supermarket Type1           994.7052  "
      ]
     },
     "execution_count": 8,
     "metadata": {},
     "output_type": "execute_result"
    }
   ],
   "source": [
    "Outlet = data.iloc[:,21:]\n",
    "Outlet.head()"
   ]
  },
  {
   "cell_type": "markdown",
   "metadata": {
    "colab_type": "text",
    "id": "sE2cmxbCJ5kO"
   },
   "source": [
    "# SECTION A: 20 MARKS"
   ]
  },
  {
   "cell_type": "code",
   "execution_count": 21,
   "metadata": {},
   "outputs": [],
   "source": [
    "import pandas as pd\n",
    "import numpy as np\n",
    "import matplotlib.pyplot as plt\n",
    "import seaborn as sns\n",
    "\n",
    "import scipy.stats as stats"
   ]
  },
  {
   "cell_type": "markdown",
   "metadata": {
    "colab_type": "text",
    "id": "-3GElz9FJ5kP"
   },
   "source": [
    "_________________"
   ]
  },
  {
   "cell_type": "markdown",
   "metadata": {
    "colab_type": "text",
    "id": "aLPBD6l6J5kQ"
   },
   "source": [
    "<span style=\"font-family: Arial; font-weight:bold;font-size:1.5em;\">1. A principal at a school claims that the students in his school are above average intelligence. A random sample of 45 students scores have been taken and observed mean intelligence score is 68. Is there sufficient evidence to support the principal claim as a significance level of 0.025 that the mean intelligence score is 59 with a standard deviation of 9. Assume scores are normally distributed.\n",
    "\n",
    "A.Frame Null and Alternate Hypothesis. ( 1 Mark)\n",
    "\n",
    "B.State which test to be performed.  (1 Mark)\n",
    "\n",
    "C.Find the test statistic.  (2 Marks)\n",
    "\n",
    "D.Interpret the results.  (1 Mark)"
   ]
  },
  {
   "cell_type": "code",
   "execution_count": 16,
   "metadata": {},
   "outputs": [],
   "source": [
    "# It is given that,\n",
    "\n",
    "n = 45\n",
    "mu = 68\n",
    "x_bar = 59\n",
    "sigma = 9\n",
    "alpha = 0.025"
   ]
  },
  {
   "cell_type": "markdown",
   "metadata": {},
   "source": [
    "A.Frame Null and Alternate Hypothesis.\n",
    "\n",
    "H0 (NULL HYPOTHESIS) :      mu = 59, the mean intelligence score is 59\n",
    "\n",
    "Ha (ALTERNATE HYPOTHESIS) : mu != 59, the mean intelligence score is not equal to 59\n",
    "\n"
   ]
  },
  {
   "cell_type": "markdown",
   "metadata": {},
   "source": [
    "B.State which test to be performed.\n",
    "\n",
    "Since it is said that the distribution is normal and number of samples is greater than 30 (n > 30), we need to perform Z stat test."
   ]
  },
  {
   "cell_type": "code",
   "execution_count": 32,
   "metadata": {},
   "outputs": [
    {
     "name": "stdout",
     "output_type": "stream",
     "text": [
      "Critical point is -0.14907119849998596\n",
      "Corresponding prob value is 0.8814974521910136\n"
     ]
    }
   ],
   "source": [
    "# C.Find the test statistic.\n",
    "\n",
    "test_stat = (x_bar - mu)/(sigma * (np.sqrt(n)))\n",
    "print('Critical point is',test_stat)\n",
    "\n",
    "p_val = stats.norm.sf(abs(test_stat))*2\n",
    "print('Corresponding prob value is',p_val)\n"
   ]
  },
  {
   "cell_type": "code",
   "execution_count": 40,
   "metadata": {},
   "outputs": [
    {
     "name": "stdout",
     "output_type": "stream",
     "text": [
      "Our critical point should be beyond 2.241402727604945 on both positive scale and negative scale but what we got is -0.14907119849998596\n"
     ]
    }
   ],
   "source": [
    "# D.Interpret the results.\n",
    "\n",
    "\n",
    "print('Our critical point should be beyond',stats.norm.isf(0.025/2),'on both positive scale and negative scale \\\n",
    "but what we got is', test_stat)"
   ]
  },
  {
   "cell_type": "markdown",
   "metadata": {},
   "source": [
    "Since critical point is within the Reject H0 region, and also the P_val is less than 0.025, we reject the NULL hypothesis.\n",
    "There is no evidence to accept the NULL hypothesis."
   ]
  },
  {
   "cell_type": "code",
   "execution_count": null,
   "metadata": {
    "colab": {},
    "colab_type": "code",
    "id": "rMRPf8DzJ5kR"
   },
   "outputs": [],
   "source": []
  },
  {
   "cell_type": "markdown",
   "metadata": {
    "colab_type": "text",
    "id": "8ndb7R1jJ5kY"
   },
   "source": [
    "<span style=\"font-family: Arial; font-weight:bold;font-size:1.5em;\">2 .\tIt is very important to fill vehicle tyres with right pressure. Too much or too less pressure will result in lower performance or shorter life. The right amount of pressure is set at 16 psi. A random check of 8 tyres at a service station has resulted in following values. Do we have evidence to believe the that the observed tyre pressure is significantly different from 16? Assume data is normally distributed. \n",
    "\n",
    "**Observed Tyre Pressure (psi):\t16.02\t16.22\t15.82\t15.92\t16.22\t16.32\t16.12\t15.92**\n",
    "    \n",
    "A.Frame Null and Alternate Hypothesis. ( 1 Mark)\n",
    "\n",
    "B.State which test to be performed.  (1 Mark)\n",
    "\n",
    "C.Find the test statistic.  (2 Marks)\n",
    "\n",
    "D.Interpret the results.  (1 Mark)\n",
    " "
   ]
  },
  {
   "cell_type": "code",
   "execution_count": 41,
   "metadata": {},
   "outputs": [],
   "source": [
    "# It is given that,\n",
    "mu = 16\n",
    "n = 8\n",
    "samples = [16.02, 16.22, 15.82, 15.92, 16.22, 16.32, 16.12, 15.92]"
   ]
  },
  {
   "cell_type": "markdown",
   "metadata": {},
   "source": [
    "A.\n",
    "\n",
    "Null hypothesis (H0) : The observed tyre pressure is equal to 16\n",
    "    \n",
    "Alternate hypothesis (H0) : The observed tyre pressure is not equal to 16"
   ]
  },
  {
   "cell_type": "markdown",
   "metadata": {},
   "source": [
    "B.\n",
    "\n",
    "Since the samples are given and we also knew the mean (mu) value, we can go with one sample t test"
   ]
  },
  {
   "cell_type": "code",
   "execution_count": 61,
   "metadata": {},
   "outputs": [
    {
     "name": "stdout",
     "output_type": "stream",
     "text": [
      "The pvalue is 0.30093607677048567 and the corresponding test statistic is 1.1168136493044576\n"
     ]
    }
   ],
   "source": [
    "# C.\n",
    "\n",
    "from scipy.stats import ttest_1samp\n",
    "\n",
    "stat, pvalue = ttest_1samp(samples, mu)\n",
    "print('The pvalue is', pvalue,'and the corresponding test statistic is', stat)"
   ]
  },
  {
   "cell_type": "code",
   "execution_count": 62,
   "metadata": {},
   "outputs": [
    {
     "name": "stdout",
     "output_type": "stream",
     "text": [
      "The pvalue is greater than 0.05 and we can confirm that it accepts the NULL hypothesis that the observed tyre pressure is equal to 16 psi\n"
     ]
    }
   ],
   "source": [
    "# D.\n",
    "\n",
    "print('The pvalue is greater than 0.05 and we can confirm that it accepts the NULL hypothesis that the observed tyre pressure is equal to 16 psi')"
   ]
  },
  {
   "cell_type": "code",
   "execution_count": null,
   "metadata": {
    "colab": {},
    "colab_type": "code",
    "id": "gj5o9ywrJ5kZ"
   },
   "outputs": [],
   "source": []
  },
  {
   "cell_type": "markdown",
   "metadata": {
    "colab_type": "text",
    "id": "07tXhslAJ5kp"
   },
   "source": [
    "<span style=\"font-family: Arial; font-weight:bold;font-size:1.5em;\">3. Now a days the online streaming services like Netflix, Amazon prime, is playing dominant role in the entertainment industry.  A public opinion poll surveyed on whether these online streaming services are better than cinema halls? On a sample of 100 random people (classified as teen/Adults/Senior Citizen) with a closed ended question (Yes or No). The details are captured. From the data ,identify the association between age category and voting preference? (Use level of significance as 5%). Use the dataframe \"Online\". \n",
    "\n",
    "A.Frame Null and Alternate Hypothesis. ( 1 Mark)\n",
    "\n",
    "B.State which test to be performed.  (1 Mark)\n",
    "\n",
    "C.Perform the test. (2 marks)\n",
    "\n",
    "D.Interpret the results.  (1 Mark)"
   ]
  },
  {
   "cell_type": "code",
   "execution_count": 63,
   "metadata": {},
   "outputs": [
    {
     "data": {
      "text/html": [
       "<div>\n",
       "<style scoped>\n",
       "    .dataframe tbody tr th:only-of-type {\n",
       "        vertical-align: middle;\n",
       "    }\n",
       "\n",
       "    .dataframe tbody tr th {\n",
       "        vertical-align: top;\n",
       "    }\n",
       "\n",
       "    .dataframe thead th {\n",
       "        text-align: right;\n",
       "    }\n",
       "</style>\n",
       "<table border=\"1\" class=\"dataframe\">\n",
       "  <thead>\n",
       "    <tr style=\"text-align: right;\">\n",
       "      <th></th>\n",
       "      <th>Age</th>\n",
       "      <th>Preference</th>\n",
       "    </tr>\n",
       "  </thead>\n",
       "  <tbody>\n",
       "    <tr>\n",
       "      <th>0</th>\n",
       "      <td>Teen</td>\n",
       "      <td>Yes</td>\n",
       "    </tr>\n",
       "    <tr>\n",
       "      <th>1</th>\n",
       "      <td>Teen</td>\n",
       "      <td>Yes</td>\n",
       "    </tr>\n",
       "  </tbody>\n",
       "</table>\n",
       "</div>"
      ],
      "text/plain": [
       "    Age Preference\n",
       "0  Teen        Yes\n",
       "1  Teen        Yes"
      ]
     },
     "execution_count": 63,
     "metadata": {},
     "output_type": "execute_result"
    }
   ],
   "source": [
    "Online.head(2) # our dataframe for this ques"
   ]
  },
  {
   "cell_type": "markdown",
   "metadata": {},
   "source": [
    "A.\n",
    "\n",
    "Null Hypothesis (H0) : The proportions of Teen, Adults and Senior citizens prefering OTT are equal\n",
    "\n",
    "Alternate Hypothesis (Ha) : The proportions of Teen, Adults and Senior citizens prefering OTT are not equal"
   ]
  },
  {
   "cell_type": "markdown",
   "metadata": {},
   "source": [
    "B.\n",
    "\n",
    "Chisquare test of independence using chi2_contigency should be performed."
   ]
  },
  {
   "cell_type": "code",
   "execution_count": 64,
   "metadata": {},
   "outputs": [
    {
     "data": {
      "text/html": [
       "<div>\n",
       "<style scoped>\n",
       "    .dataframe tbody tr th:only-of-type {\n",
       "        vertical-align: middle;\n",
       "    }\n",
       "\n",
       "    .dataframe tbody tr th {\n",
       "        vertical-align: top;\n",
       "    }\n",
       "\n",
       "    .dataframe thead th {\n",
       "        text-align: right;\n",
       "    }\n",
       "</style>\n",
       "<table border=\"1\" class=\"dataframe\">\n",
       "  <thead>\n",
       "    <tr style=\"text-align: right;\">\n",
       "      <th>Preference</th>\n",
       "      <th>No</th>\n",
       "      <th>Yes</th>\n",
       "    </tr>\n",
       "    <tr>\n",
       "      <th>Age</th>\n",
       "      <th></th>\n",
       "      <th></th>\n",
       "    </tr>\n",
       "  </thead>\n",
       "  <tbody>\n",
       "    <tr>\n",
       "      <th>Adult</th>\n",
       "      <td>17</td>\n",
       "      <td>13</td>\n",
       "    </tr>\n",
       "    <tr>\n",
       "      <th>Senior Citizen</th>\n",
       "      <td>15</td>\n",
       "      <td>12</td>\n",
       "    </tr>\n",
       "    <tr>\n",
       "      <th>Teen</th>\n",
       "      <td>10</td>\n",
       "      <td>32</td>\n",
       "    </tr>\n",
       "  </tbody>\n",
       "</table>\n",
       "</div>"
      ],
      "text/plain": [
       "Preference      No  Yes\n",
       "Age                    \n",
       "Adult           17   13\n",
       "Senior Citizen  15   12\n",
       "Teen            10   32"
      ]
     },
     "execution_count": 64,
     "metadata": {},
     "output_type": "execute_result"
    }
   ],
   "source": [
    "# C.\n",
    "\n",
    "ct = pd.crosstab(Online['Age'], Online['Preference'])\n",
    "ct"
   ]
  },
  {
   "cell_type": "code",
   "execution_count": 65,
   "metadata": {},
   "outputs": [
    {
     "name": "stdout",
     "output_type": "stream",
     "text": [
      "Chisquare value 10.355477980665949 p_value is 0.005640745787809177 degrees of freedom is 2 and expected values are [[12.72727273 17.27272727]\n",
      " [11.45454545 15.54545455]\n",
      " [17.81818182 24.18181818]]\n"
     ]
    }
   ],
   "source": [
    "from scipy.stats import chi2_contingency\n",
    "\n",
    "chi_value, pvalue, df, expected_val = chi2_contingency(ct)\n",
    "print('Chisquare value',chi_value,'p_value is', pvalue,'degrees of freedom is', df,'and expected values are', expected_val)"
   ]
  },
  {
   "cell_type": "code",
   "execution_count": 66,
   "metadata": {},
   "outputs": [
    {
     "name": "stdout",
     "output_type": "stream",
     "text": [
      "The p_value we got is 0.005640745787809177 which is greater than 0.05. Hence we accept the NULL hypothesis.\n",
      "The proportions of Teen, Adults and Senior citizens prefering OTT are equal\n"
     ]
    }
   ],
   "source": [
    "# D.\n",
    "\n",
    "print('The p_value we got is',pvalue,'which is greater than 0.05. Hence we accept the NULL hypothesis.')\n",
    "print('The proportions of Teen, Adults and Senior citizens prefering OTT are equal')"
   ]
  },
  {
   "cell_type": "code",
   "execution_count": null,
   "metadata": {
    "colab": {},
    "colab_type": "code",
    "id": "-rN3FlrCJ5lB"
   },
   "outputs": [],
   "source": []
  },
  {
   "cell_type": "markdown",
   "metadata": {
    "colab_type": "text",
    "id": "Uv7oTjyEJ5lJ"
   },
   "source": [
    "<span style=\"font-family: Arial; font-weight:bold;font-size:1.5em;\"> 4. In a survey, 200 people were asked to identify their major source of news information. 110 stated that their major source was television news.\n",
    "    \n",
    "i. Construct a 95% confidence interval for the proportion of people in the population who consider television their major source of news information.(2 marks) \n",
    "\n",
    "ii. How large a sample would be necessary to estimate the population proportion with a margin of error of .05 at 95% confidence? (3 marks)"
   ]
  },
  {
   "cell_type": "code",
   "execution_count": 190,
   "metadata": {},
   "outputs": [],
   "source": [
    "#It is given that,\n",
    "\n",
    "n=200 # sample size\n",
    "\n",
    "x_tv =110 # number accepting major source of news information is TV"
   ]
  },
  {
   "cell_type": "code",
   "execution_count": 191,
   "metadata": {},
   "outputs": [
    {
     "data": {
      "text/plain": [
       "(0.4810521552867026, 0.6189478447132976)"
      ]
     },
     "execution_count": 191,
     "metadata": {},
     "output_type": "execute_result"
    }
   ],
   "source": [
    "# i,\n",
    "\n",
    "import statsmodels.stats.proportion as SMP\n",
    "\n",
    "SMP.proportion_confint(count = 110, nobs=200)"
   ]
  },
  {
   "cell_type": "markdown",
   "metadata": {},
   "source": [
    "The 95% Confidence Interval for the proportion of people in the population who consider television their major source of news information is [0.48105, 0.61895]"
   ]
  },
  {
   "cell_type": "code",
   "execution_count": null,
   "metadata": {},
   "outputs": [],
   "source": [
    "# ii,\n",
    "\n",
    "The sample should be atleast 30 in size to estimate the population metrics."
   ]
  },
  {
   "cell_type": "code",
   "execution_count": null,
   "metadata": {
    "colab": {},
    "colab_type": "code",
    "id": "76onCM2yJ5lL"
   },
   "outputs": [],
   "source": []
  },
  {
   "cell_type": "markdown",
   "metadata": {
    "colab_type": "text",
    "id": "1DfRBwZeJ5lX"
   },
   "source": [
    "_________________"
   ]
  },
  {
   "cell_type": "markdown",
   "metadata": {
    "colab_type": "text",
    "id": "A8Dy4DCGJ5lZ"
   },
   "source": [
    "# SECTION B: 20 MARKS"
   ]
  },
  {
   "cell_type": "markdown",
   "metadata": {
    "colab_type": "text",
    "id": "nGvrtFNTJ5la"
   },
   "source": [
    "_________________"
   ]
  },
  {
   "cell_type": "markdown",
   "metadata": {
    "colab_type": "text",
    "id": "S7wNBnkKJ5lc"
   },
   "source": [
    "<span style=\"font-family: Arial; font-weight:bold;font-size:1.5em;\"> 5.The manufacturers of compact disk players want to test whether a small price reduction is enough to increase sales of their product. Is there evidence that the small price reduction is enough to increase sales of compact disk players?\n",
    "\n",
    "\n",
    "| Before reduction||After reduction  ||\n",
    "| ------|  ------ |--------------|-----------------|\n",
    "| n1=\t|15| \tn2 =| 12|\n",
    "| Average sales_ before=|Rs. 6598 ( in lakhs)  |Average sales _ after =| RS. 6870( in lakhs)|\n",
    "| s1=|Rs. 844( in lakhs)|     s2=| Rs. 669( in lakhs)|\n",
    "    \n",
    "i) Create the Hypothesis (2 marks)\n",
    "\n",
    "ii) Determine the Statistical Test and give the reason for the selection of the test.(1 mark)\n",
    "\n",
    "iii) Find the test statistics and pvalue.(6 marks)\n",
    "\n",
    "iv) Interpret the Results(1 mark)\n",
    "\n",
    "**Note: Assume data is normally distributed and have equal variance.**"
   ]
  },
  {
   "cell_type": "markdown",
   "metadata": {},
   "source": [
    "i)\n",
    "\n",
    "NULL HYPOTHESIS (H0) : Small price reduction is not enough to increase sales of their product. \n",
    "                        mean_sales_before_price_reducton = mean_sales_after_price_reduction\n",
    "    \n",
    "ALTERNATE HYPOTHESIS (H0) : Small price reduction is enough to increase sales of their product.\n",
    "                        mean_sales_before_price_reducton != mean_sales_after_price_reduction"
   ]
  },
  {
   "cell_type": "markdown",
   "metadata": {},
   "source": [
    "ii)\n",
    "\n",
    "We go with two sample t test, as the metrics are numerical. we have metrics for number of samples (n), average sales (before and after) and also their corresponding standard deviation values.\n",
    "\n",
    "Also since it is before and after reduction, we must go with PAIRED (Dependent) two sample t test as the data is same."
   ]
  },
  {
   "cell_type": "code",
   "execution_count": 196,
   "metadata": {},
   "outputs": [
    {
     "data": {
      "text/plain": [
       "1.2615844544095665"
      ]
     },
     "execution_count": 196,
     "metadata": {},
     "output_type": "execute_result"
    }
   ],
   "source": [
    "# iii)\n",
    "\n",
    "n1 = 15\n",
    "n2 = 15\n",
    "avg_sales_before = 6598\n",
    "avg_sales_after = 6870\n",
    "s1 = 844\n",
    "s2 = 669\n",
    "\n",
    "s1/s2"
   ]
  },
  {
   "cell_type": "code",
   "execution_count": 197,
   "metadata": {},
   "outputs": [
    {
     "data": {
      "text/plain": [
       "-0.9781485624174633"
      ]
     },
     "execution_count": 197,
     "metadata": {},
     "output_type": "execute_result"
    }
   ],
   "source": [
    "t_stat = (avg_sales_before - avg_sales_after)/(np.sqrt(((s1**2)/n1)+((s2**2)/n2)))\n",
    "t_stat"
   ]
  },
  {
   "cell_type": "code",
   "execution_count": 198,
   "metadata": {},
   "outputs": [
    {
     "data": {
      "text/plain": [
       "0.32800085246575994"
      ]
     },
     "execution_count": 198,
     "metadata": {},
     "output_type": "execute_result"
    }
   ],
   "source": [
    "pval = stats.norm.sf(abs(t_stat))*2  # since it is two tail test\n",
    "pval"
   ]
  },
  {
   "cell_type": "code",
   "execution_count": 200,
   "metadata": {},
   "outputs": [
    {
     "name": "stdout",
     "output_type": "stream",
     "text": [
      "The test statistics is -0.9781485624174633 and the pvalue is 0.32800085246575994\n"
     ]
    }
   ],
   "source": [
    "print('The test statistics is',t_stat,'and the pvalue is', pval)"
   ]
  },
  {
   "cell_type": "markdown",
   "metadata": {},
   "source": [
    "iv,\n",
    "\n",
    "our default confidence interval range is 95%. Here on statistical test, we get pvalue as 0.328 which is way greater than 0.05.\n",
    "\n",
    "Hence we can conclude that there is no significant statistical difference reducton in sales on price reduction."
   ]
  },
  {
   "cell_type": "code",
   "execution_count": null,
   "metadata": {
    "colab": {},
    "colab_type": "code",
    "id": "-Udu7xFgJ5le"
   },
   "outputs": [],
   "source": []
  },
  {
   "cell_type": "markdown",
   "metadata": {
    "colab_type": "text",
    "id": "MQZZAdWaJ5lo"
   },
   "source": [
    "<span style=\"font-family: Arial; font-weight:bold;font-size:1.5em;\"> 6.\tMultiple myeloma or blood plasma cancer is characterised by increased  blood vessel formulation (angiogenesis) in the bone marrow. One treatment approach used for multiple myeloma is stem cell transplantation with the patient’s own stem cells. The data given below represents the bone marrow micro vessel density for patients who had a complete response to the stem cell transplant (as measured by blood test). The measurements were taken before and after the transplant.\n",
    "\n",
    "|Patient|Before|After|\n",
    "|--|--|--|\n",
    "|1|158|284|\n",
    "|2|189|214|\n",
    "|3|202|101|\n",
    "|4|353|227|\n",
    "|5|416|290|\n",
    "|6|426|176|\n",
    "|7|441|290|\n",
    "\n",
    "\n",
    "a.\tAt the 0.05 level of significance, is there evidence that the mean bone marrow micro vessel density has decreased after the stem cell transplant? Interpret the test statistic and p-value from the result. (7 MARKS)\n",
    "\n",
    "c.\tConstruct and interpret the 95% confidence interval estimation of the mean difference in bone marrow micro vessel density before and after stem cell transplant. (3 MARKS)\n",
    "    \n",
    "**Note: Assume data is normally distributed and have equal variance.**"
   ]
  },
  {
   "cell_type": "markdown",
   "metadata": {},
   "source": [
    "a.\n",
    "\n",
    "Hypothesis statement \n",
    "\n",
    "Null hypothesis : the mean bone marrow micro vessel density has not decreased after the stem cell transplant\n",
    "                    mu(density_before) <= mu(density_after)\n",
    "    \n",
    "Alternate hypothesis : the mean bone marrow micro vessel density has decreased after the stem cell transplant,\n",
    "                    mu(density_before) > mu(density_after)\n"
   ]
  },
  {
   "cell_type": "code",
   "execution_count": 201,
   "metadata": {},
   "outputs": [],
   "source": [
    "density_before = [158, 189, 202, 353, 416, 426, 441]\n",
    "density_after = [284, 214, 101, 227, 290, 176, 290]\n",
    "\n",
    "# we use paired(dependent t test)"
   ]
  },
  {
   "cell_type": "code",
   "execution_count": 202,
   "metadata": {},
   "outputs": [
    {
     "name": "stdout",
     "output_type": "stream",
     "text": [
      "(0.8324366211891174, 0.08438079059123993)\n",
      "(0.8819728493690491, 0.235350102186203)\n"
     ]
    }
   ],
   "source": [
    "# test of normality\n",
    "\n",
    "from scipy.stats import shapiro\n",
    "\n",
    "print(shapiro(density_before))\n",
    "print(shapiro(density_after))"
   ]
  },
  {
   "cell_type": "markdown",
   "metadata": {},
   "source": [
    "It is very evident from the shapiro test that both the groups are normally distributed."
   ]
  },
  {
   "cell_type": "markdown",
   "metadata": {},
   "source": [
    "Before perforoming the statistical test, we shall confirm what the critical value range for a ONE TAIL TEST.\n",
    "\n",
    "We are performing ONE TAIL TEST because, our hypothesis is to find whether it has decreased conpared to previous or not.\n"
   ]
  },
  {
   "cell_type": "code",
   "execution_count": 203,
   "metadata": {},
   "outputs": [
    {
     "data": {
      "text/plain": [
       "1.6448536269514729"
      ]
     },
     "execution_count": 203,
     "metadata": {},
     "output_type": "execute_result"
    }
   ],
   "source": [
    "stats.norm.isf(0.05) # since it is ONE TAIL TEST, we pass whole alpha as paramter."
   ]
  },
  {
   "cell_type": "markdown",
   "metadata": {},
   "source": [
    "It is found that the critical test statistic for 95% CI ONE TAIL TEST is 1.645"
   ]
  },
  {
   "cell_type": "code",
   "execution_count": 204,
   "metadata": {},
   "outputs": [
    {
     "name": "stdout",
     "output_type": "stream",
     "text": [
      "Ttest_relResult(statistic=1.8424550291027728, pvalue=0.11498626687185708)\n"
     ]
    }
   ],
   "source": [
    "# SInce they are normal and paired, we go for paired parametric two sample t test\n",
    "\n",
    "from scipy.stats import ttest_rel\n",
    "\n",
    "print(ttest_rel(density_before, density_after))"
   ]
  },
  {
   "cell_type": "markdown",
   "metadata": {},
   "source": [
    "The pvalue we got is 0.1149 (greater than 0.05) and also the test statistics is greater than 1.645. Hence it will accept the NULL Hypothesis. There is no significant evidence to reject the NULL Hypothesis. "
   ]
  },
  {
   "cell_type": "markdown",
   "metadata": {
    "colab": {},
    "colab_type": "code",
    "id": "i_-BLkdQJ5lp"
   },
   "source": [
    "C."
   ]
  },
  {
   "cell_type": "code",
   "execution_count": 205,
   "metadata": {},
   "outputs": [
    {
     "data": {
      "text/plain": [
       "556.264321991813"
      ]
     },
     "execution_count": 205,
     "metadata": {},
     "output_type": "execute_result"
    }
   ],
   "source": [
    "np.mean(density_before) + 1.96 * np.std(density_before, ddof=1)"
   ]
  },
  {
   "cell_type": "code",
   "execution_count": 206,
   "metadata": {},
   "outputs": [
    {
     "data": {
      "text/plain": [
       "68.02139229390133"
      ]
     },
     "execution_count": 206,
     "metadata": {},
     "output_type": "execute_result"
    }
   ],
   "source": [
    "np.mean(density_before) - 1.96 * np.std(density_before, ddof=1)"
   ]
  },
  {
   "cell_type": "code",
   "execution_count": null,
   "metadata": {},
   "outputs": [],
   "source": []
  },
  {
   "cell_type": "code",
   "execution_count": null,
   "metadata": {},
   "outputs": [],
   "source": []
  },
  {
   "cell_type": "code",
   "execution_count": null,
   "metadata": {},
   "outputs": [],
   "source": []
  },
  {
   "cell_type": "code",
   "execution_count": null,
   "metadata": {},
   "outputs": [],
   "source": []
  },
  {
   "cell_type": "markdown",
   "metadata": {
    "colab_type": "text",
    "id": "vVON7DP_J5lz"
   },
   "source": [
    "_________________"
   ]
  },
  {
   "cell_type": "markdown",
   "metadata": {
    "colab_type": "text",
    "id": "SdSPQGx8J5l3"
   },
   "source": [
    "# SECTION C: 30 MARKS"
   ]
  },
  {
   "cell_type": "markdown",
   "metadata": {
    "colab_type": "text",
    "id": "idKX-OFDJ5l4"
   },
   "source": [
    "_________________"
   ]
  },
  {
   "cell_type": "markdown",
   "metadata": {
    "colab_type": "text",
    "id": "rW06XfqWJ5l6"
   },
   "source": [
    "<span style=\"font-family: Arial; font-weight:bold;font-size:1.5em;\"> 7. The data set consists of complete educational details of students right from their schooling to MBA and previous work experience. Salary is the target variable.Use the dataframe \"Admission\".\n",
    "   \n",
    "\n",
    "Perform the following tasks on the data :\n",
    "\n",
    "i. List out the features( numerical and categorical) ?  (2 Marks )\n",
    "\n",
    "ii. Frame Null and Alternate Hypothesis and perform the required statistical tests between any 4 categorical features.(8 marks)\n",
    "\n",
    "\n",
    "iii. Is there any influence of gender on the Salary received ?Frame the hypothesis and perform the test. (3 Marks)\n",
    "\n",
    "iv. Interpret all the above test results. (2 Marks)\n",
    "\n",
    "\n",
    "**Note: Assume all continuous columns are normally distributed and have equal variance.**"
   ]
  },
  {
   "cell_type": "code",
   "execution_count": 95,
   "metadata": {},
   "outputs": [
    {
     "data": {
      "text/html": [
       "<div>\n",
       "<style scoped>\n",
       "    .dataframe tbody tr th:only-of-type {\n",
       "        vertical-align: middle;\n",
       "    }\n",
       "\n",
       "    .dataframe tbody tr th {\n",
       "        vertical-align: top;\n",
       "    }\n",
       "\n",
       "    .dataframe thead th {\n",
       "        text-align: right;\n",
       "    }\n",
       "</style>\n",
       "<table border=\"1\" class=\"dataframe\">\n",
       "  <thead>\n",
       "    <tr style=\"text-align: right;\">\n",
       "      <th></th>\n",
       "      <th>SlNo</th>\n",
       "      <th>Gender</th>\n",
       "      <th>Percent_SSC</th>\n",
       "      <th>Board_SSC</th>\n",
       "      <th>Percent_HSC</th>\n",
       "      <th>Board_HSC</th>\n",
       "      <th>Stream_HSC</th>\n",
       "      <th>Percent_Degree</th>\n",
       "      <th>Course_Degree</th>\n",
       "      <th>Experience_Yrs</th>\n",
       "      <th>Entrance_Test</th>\n",
       "      <th>Percentile_ET</th>\n",
       "      <th>Percent_MBA</th>\n",
       "      <th>Specialization_MBA</th>\n",
       "      <th>Marks_Communication</th>\n",
       "      <th>Marks_Projectwork</th>\n",
       "      <th>Marks_BOCA</th>\n",
       "      <th>Placement</th>\n",
       "      <th>Salary</th>\n",
       "    </tr>\n",
       "  </thead>\n",
       "  <tbody>\n",
       "    <tr>\n",
       "      <th>0</th>\n",
       "      <td>1.0</td>\n",
       "      <td>M</td>\n",
       "      <td>62.00</td>\n",
       "      <td>Others</td>\n",
       "      <td>88.00</td>\n",
       "      <td>Others</td>\n",
       "      <td>Commerce</td>\n",
       "      <td>52.00</td>\n",
       "      <td>Science</td>\n",
       "      <td>0.0</td>\n",
       "      <td>MAT</td>\n",
       "      <td>55.0</td>\n",
       "      <td>58.80</td>\n",
       "      <td>Marketing &amp; HR</td>\n",
       "      <td>50.0</td>\n",
       "      <td>65.0</td>\n",
       "      <td>74.0</td>\n",
       "      <td>Placed</td>\n",
       "      <td>270000.0</td>\n",
       "    </tr>\n",
       "    <tr>\n",
       "      <th>1</th>\n",
       "      <td>2.0</td>\n",
       "      <td>M</td>\n",
       "      <td>76.33</td>\n",
       "      <td>ICSE</td>\n",
       "      <td>75.33</td>\n",
       "      <td>Others</td>\n",
       "      <td>Science</td>\n",
       "      <td>75.48</td>\n",
       "      <td>Computer Applications</td>\n",
       "      <td>1.0</td>\n",
       "      <td>MAT</td>\n",
       "      <td>86.5</td>\n",
       "      <td>66.28</td>\n",
       "      <td>Marketing &amp; Finance</td>\n",
       "      <td>69.0</td>\n",
       "      <td>70.0</td>\n",
       "      <td>75.0</td>\n",
       "      <td>Placed</td>\n",
       "      <td>200000.0</td>\n",
       "    </tr>\n",
       "    <tr>\n",
       "      <th>2</th>\n",
       "      <td>3.0</td>\n",
       "      <td>M</td>\n",
       "      <td>72.00</td>\n",
       "      <td>Others</td>\n",
       "      <td>78.00</td>\n",
       "      <td>Others</td>\n",
       "      <td>Commerce</td>\n",
       "      <td>66.63</td>\n",
       "      <td>Engineering</td>\n",
       "      <td>0.0</td>\n",
       "      <td>NaN</td>\n",
       "      <td>0.0</td>\n",
       "      <td>52.91</td>\n",
       "      <td>Marketing &amp; Finance</td>\n",
       "      <td>50.0</td>\n",
       "      <td>61.0</td>\n",
       "      <td>59.0</td>\n",
       "      <td>Placed</td>\n",
       "      <td>240000.0</td>\n",
       "    </tr>\n",
       "  </tbody>\n",
       "</table>\n",
       "</div>"
      ],
      "text/plain": [
       "   SlNo Gender  Percent_SSC Board_SSC  Percent_HSC Board_HSC Stream_HSC  \\\n",
       "0   1.0      M        62.00    Others        88.00    Others   Commerce   \n",
       "1   2.0      M        76.33      ICSE        75.33    Others    Science   \n",
       "2   3.0      M        72.00    Others        78.00    Others   Commerce   \n",
       "\n",
       "   Percent_Degree          Course_Degree  Experience_Yrs Entrance_Test  \\\n",
       "0           52.00                Science             0.0           MAT   \n",
       "1           75.48  Computer Applications             1.0           MAT   \n",
       "2           66.63            Engineering             0.0           NaN   \n",
       "\n",
       "   Percentile_ET  Percent_MBA   Specialization_MBA  Marks_Communication  \\\n",
       "0           55.0        58.80       Marketing & HR                 50.0   \n",
       "1           86.5        66.28  Marketing & Finance                 69.0   \n",
       "2            0.0        52.91  Marketing & Finance                 50.0   \n",
       "\n",
       "   Marks_Projectwork  Marks_BOCA Placement    Salary  \n",
       "0               65.0        74.0    Placed  270000.0  \n",
       "1               70.0        75.0    Placed  200000.0  \n",
       "2               61.0        59.0    Placed  240000.0  "
      ]
     },
     "execution_count": 95,
     "metadata": {},
     "output_type": "execute_result"
    }
   ],
   "source": [
    "Admission.head(3)"
   ]
  },
  {
   "cell_type": "code",
   "execution_count": 105,
   "metadata": {},
   "outputs": [
    {
     "name": "stdout",
     "output_type": "stream",
     "text": [
      "<class 'pandas.core.frame.DataFrame'>\n",
      "RangeIndex: 391 entries, 0 to 390\n",
      "Data columns (total 19 columns):\n",
      "SlNo                   391 non-null float64\n",
      "Gender                 391 non-null object\n",
      "Percent_SSC            391 non-null float64\n",
      "Board_SSC              391 non-null object\n",
      "Percent_HSC            391 non-null float64\n",
      "Board_HSC              391 non-null object\n",
      "Stream_HSC             391 non-null object\n",
      "Percent_Degree         391 non-null float64\n",
      "Course_Degree          391 non-null object\n",
      "Experience_Yrs         391 non-null float64\n",
      "Entrance_Test          324 non-null object\n",
      "Percentile_ET          391 non-null float64\n",
      "Percent_MBA            391 non-null float64\n",
      "Specialization_MBA     391 non-null object\n",
      "Marks_Communication    391 non-null float64\n",
      "Marks_Projectwork      391 non-null float64\n",
      "Marks_BOCA             391 non-null float64\n",
      "Placement              391 non-null object\n",
      "Salary                 391 non-null float64\n",
      "dtypes: float64(11), object(8)\n",
      "memory usage: 58.1+ KB\n",
      "None\n",
      "\n",
      "Categorical features are ['Gender', 'Board_SSC', 'Board_HSC', 'Stream_HSC', 'Course_Degree', 'Entrance_Test', 'Specialization_MBA', 'Placement']\n",
      "\n",
      "Numerical features are ['SlNo', 'Percent_SSC', 'Percent_HSC', 'Percent_Degree', 'Experience_Yrs', 'Percentile_ET', 'Percent_MBA', 'Marks_Communication', 'Marks_Projectwork', 'Marks_BOCA', 'Salary']\n"
     ]
    }
   ],
   "source": [
    "# i.\n",
    "print(Admission.info())\n",
    "print()\n",
    "print('Categorical features are',list(Admission.select_dtypes(include = 'object').columns))\n",
    "print()\n",
    "print('Numerical features are',list(Admission.select_dtypes(exclude = 'object').columns))"
   ]
  },
  {
   "cell_type": "markdown",
   "metadata": {},
   "source": [
    "ii.\n",
    "\n",
    "Number One\n",
    "\n",
    "Null Hypothesis (H0) : The proporption of male placed is equal to the proportion of female placed.\n",
    "\n",
    "ALternate Hypothesis (Ha) : The proporption of male placed is equal to the proportion of female placed."
   ]
  },
  {
   "cell_type": "code",
   "execution_count": 144,
   "metadata": {},
   "outputs": [
    {
     "data": {
      "text/html": [
       "<div>\n",
       "<style scoped>\n",
       "    .dataframe tbody tr th:only-of-type {\n",
       "        vertical-align: middle;\n",
       "    }\n",
       "\n",
       "    .dataframe tbody tr th {\n",
       "        vertical-align: top;\n",
       "    }\n",
       "\n",
       "    .dataframe thead th {\n",
       "        text-align: right;\n",
       "    }\n",
       "</style>\n",
       "<table border=\"1\" class=\"dataframe\">\n",
       "  <thead>\n",
       "    <tr style=\"text-align: right;\">\n",
       "      <th>Placement</th>\n",
       "      <th>Not Placed</th>\n",
       "      <th>Placed</th>\n",
       "    </tr>\n",
       "    <tr>\n",
       "      <th>Gender</th>\n",
       "      <th></th>\n",
       "      <th></th>\n",
       "    </tr>\n",
       "  </thead>\n",
       "  <tbody>\n",
       "    <tr>\n",
       "      <th>F</th>\n",
       "      <td>30</td>\n",
       "      <td>97</td>\n",
       "    </tr>\n",
       "    <tr>\n",
       "      <th>M</th>\n",
       "      <td>49</td>\n",
       "      <td>215</td>\n",
       "    </tr>\n",
       "  </tbody>\n",
       "</table>\n",
       "</div>"
      ],
      "text/plain": [
       "Placement  Not Placed  Placed\n",
       "Gender                       \n",
       "F                  30      97\n",
       "M                  49     215"
      ]
     },
     "execution_count": 144,
     "metadata": {},
     "output_type": "execute_result"
    }
   ],
   "source": [
    "pd.crosstab(Admission['Gender'], Admission['Placement'])"
   ]
  },
  {
   "cell_type": "code",
   "execution_count": 119,
   "metadata": {},
   "outputs": [
    {
     "name": "stdout",
     "output_type": "stream",
     "text": [
      "Pvalue is 0.24309675935715924\n"
     ]
    }
   ],
   "source": [
    "from statsmodels.stats.proportion import proportions_ztest\n",
    "\n",
    "placed = np.array([97, 215])\n",
    "total= np.array([127, 264])\n",
    "\n",
    "test_stat, pval = proportions_ztest(placed, total)\n",
    "print('Pvalue is', pval)"
   ]
  },
  {
   "cell_type": "markdown",
   "metadata": {},
   "source": [
    "Here our pval is greater than 0.05 which means that the proporption of male placed is equal to the proportion of female placed."
   ]
  },
  {
   "cell_type": "markdown",
   "metadata": {},
   "source": [
    "Number TWO\n",
    "\n",
    "Null Hypothesis (H0) : The proporption of male studied across different boards of SSC are equal to the proportion of female studied across different boards of SSC\n",
    "\n",
    "ALternate Hypothesis (Ha) : The proporption of male studied across different boards of SSC are not equal to the proportion of female studied across different boards of SSC"
   ]
  },
  {
   "cell_type": "code",
   "execution_count": 145,
   "metadata": {},
   "outputs": [
    {
     "data": {
      "text/html": [
       "<div>\n",
       "<style scoped>\n",
       "    .dataframe tbody tr th:only-of-type {\n",
       "        vertical-align: middle;\n",
       "    }\n",
       "\n",
       "    .dataframe tbody tr th {\n",
       "        vertical-align: top;\n",
       "    }\n",
       "\n",
       "    .dataframe thead th {\n",
       "        text-align: right;\n",
       "    }\n",
       "</style>\n",
       "<table border=\"1\" class=\"dataframe\">\n",
       "  <thead>\n",
       "    <tr style=\"text-align: right;\">\n",
       "      <th>Board_SSC</th>\n",
       "      <th>CBSE</th>\n",
       "      <th>ICSE</th>\n",
       "      <th>Others</th>\n",
       "    </tr>\n",
       "    <tr>\n",
       "      <th>Gender</th>\n",
       "      <th></th>\n",
       "      <th></th>\n",
       "      <th></th>\n",
       "    </tr>\n",
       "  </thead>\n",
       "  <tbody>\n",
       "    <tr>\n",
       "      <th>F</th>\n",
       "      <td>37</td>\n",
       "      <td>30</td>\n",
       "      <td>60</td>\n",
       "    </tr>\n",
       "    <tr>\n",
       "      <th>M</th>\n",
       "      <td>76</td>\n",
       "      <td>47</td>\n",
       "      <td>141</td>\n",
       "    </tr>\n",
       "  </tbody>\n",
       "</table>\n",
       "</div>"
      ],
      "text/plain": [
       "Board_SSC  CBSE  ICSE  Others\n",
       "Gender                       \n",
       "F            37    30      60\n",
       "M            76    47     141"
      ]
     },
     "execution_count": 145,
     "metadata": {},
     "output_type": "execute_result"
    }
   ],
   "source": [
    "ct2 = pd.crosstab(Admission['Gender'], Admission['Board_SSC'])\n",
    "ct2"
   ]
  },
  {
   "cell_type": "code",
   "execution_count": 146,
   "metadata": {},
   "outputs": [
    {
     "name": "stdout",
     "output_type": "stream",
     "text": [
      "(2.111936979417245, 0.3478553697684553, 2, array([[ 36.70332481,  25.01023018,  65.28644501],\n",
      "       [ 76.29667519,  51.98976982, 135.71355499]]))\n"
     ]
    }
   ],
   "source": [
    "# we use chi2_contigency\n",
    "\n",
    "from scipy.stats import chi2_contingency\n",
    "\n",
    "print(chi2_contingency(ct2))"
   ]
  },
  {
   "cell_type": "markdown",
   "metadata": {},
   "source": [
    "The pvalue is 0.3478 which is greater than 0.05. SO we can confirm that the proporption of male studied across different boards of SSC are equal to the proportion of female studied across different boards of SSC"
   ]
  },
  {
   "cell_type": "markdown",
   "metadata": {},
   "source": [
    "Number THREE\n",
    "\n",
    "Null Hypothesis (H0) : The proporption of male studied across different boards of HSC are equal to the proportion of female studied across different boards of HSC\n",
    "\n",
    "ALternate Hypothesis (Ha) : The proporption of male studied across different boards of HSC are not equal to the proportion of female studied across different boards of HSC"
   ]
  },
  {
   "cell_type": "code",
   "execution_count": 147,
   "metadata": {},
   "outputs": [
    {
     "data": {
      "text/html": [
       "<div>\n",
       "<style scoped>\n",
       "    .dataframe tbody tr th:only-of-type {\n",
       "        vertical-align: middle;\n",
       "    }\n",
       "\n",
       "    .dataframe tbody tr th {\n",
       "        vertical-align: top;\n",
       "    }\n",
       "\n",
       "    .dataframe thead th {\n",
       "        text-align: right;\n",
       "    }\n",
       "</style>\n",
       "<table border=\"1\" class=\"dataframe\">\n",
       "  <thead>\n",
       "    <tr style=\"text-align: right;\">\n",
       "      <th>Board_HSC</th>\n",
       "      <th>CBSE</th>\n",
       "      <th>ISC</th>\n",
       "      <th>Others</th>\n",
       "    </tr>\n",
       "    <tr>\n",
       "      <th>Gender</th>\n",
       "      <th></th>\n",
       "      <th></th>\n",
       "      <th></th>\n",
       "    </tr>\n",
       "  </thead>\n",
       "  <tbody>\n",
       "    <tr>\n",
       "      <th>F</th>\n",
       "      <td>34</td>\n",
       "      <td>17</td>\n",
       "      <td>76</td>\n",
       "    </tr>\n",
       "    <tr>\n",
       "      <th>M</th>\n",
       "      <td>62</td>\n",
       "      <td>31</td>\n",
       "      <td>171</td>\n",
       "    </tr>\n",
       "  </tbody>\n",
       "</table>\n",
       "</div>"
      ],
      "text/plain": [
       "Board_HSC  CBSE  ISC  Others\n",
       "Gender                      \n",
       "F            34   17      76\n",
       "M            62   31     171"
      ]
     },
     "execution_count": 147,
     "metadata": {},
     "output_type": "execute_result"
    }
   ],
   "source": [
    "ct3 = pd.crosstab(Admission['Gender'], Admission['Board_HSC'])\n",
    "ct3"
   ]
  },
  {
   "cell_type": "code",
   "execution_count": 148,
   "metadata": {},
   "outputs": [
    {
     "name": "stdout",
     "output_type": "stream",
     "text": [
      "(0.8958914076409166, 0.638939375057137, 2, array([[ 31.18158568,  15.59079284,  80.22762148],\n",
      "       [ 64.81841432,  32.40920716, 166.77237852]]))\n"
     ]
    }
   ],
   "source": [
    "print(chi2_contingency(ct3))"
   ]
  },
  {
   "cell_type": "markdown",
   "metadata": {},
   "source": [
    "The pvalue is 0.6389 which is greater than 0.05. SO we can confirm that the proporption of male studied across different boards of HSC are equal to the proportion of female studied across different boards of HSC."
   ]
  },
  {
   "cell_type": "markdown",
   "metadata": {},
   "source": [
    "Number FOUR\n",
    "\n",
    "Null Hypothesis (H0) : The proporption of male studied across different Course_Degree are equal to the proportion of female studied across different Course_Degree\n",
    "\n",
    "ALternate Hypothesis (Ha) : The proporption of male studied across different Course_Degree are not equal to the proportion of female studied across different Course_Degree"
   ]
  },
  {
   "cell_type": "code",
   "execution_count": 149,
   "metadata": {},
   "outputs": [
    {
     "data": {
      "text/html": [
       "<div>\n",
       "<style scoped>\n",
       "    .dataframe tbody tr th:only-of-type {\n",
       "        vertical-align: middle;\n",
       "    }\n",
       "\n",
       "    .dataframe tbody tr th {\n",
       "        vertical-align: top;\n",
       "    }\n",
       "\n",
       "    .dataframe thead th {\n",
       "        text-align: right;\n",
       "    }\n",
       "</style>\n",
       "<table border=\"1\" class=\"dataframe\">\n",
       "  <thead>\n",
       "    <tr style=\"text-align: right;\">\n",
       "      <th>Course_Degree</th>\n",
       "      <th>Arts</th>\n",
       "      <th>Commerce</th>\n",
       "      <th>Computer Applications</th>\n",
       "      <th>Engineering</th>\n",
       "      <th>Management</th>\n",
       "      <th>Others</th>\n",
       "      <th>Science</th>\n",
       "    </tr>\n",
       "    <tr>\n",
       "      <th>Gender</th>\n",
       "      <th></th>\n",
       "      <th></th>\n",
       "      <th></th>\n",
       "      <th></th>\n",
       "      <th></th>\n",
       "      <th></th>\n",
       "      <th></th>\n",
       "    </tr>\n",
       "  </thead>\n",
       "  <tbody>\n",
       "    <tr>\n",
       "      <th>F</th>\n",
       "      <td>8</td>\n",
       "      <td>36</td>\n",
       "      <td>9</td>\n",
       "      <td>10</td>\n",
       "      <td>55</td>\n",
       "      <td>2</td>\n",
       "      <td>7</td>\n",
       "    </tr>\n",
       "    <tr>\n",
       "      <th>M</th>\n",
       "      <td>5</td>\n",
       "      <td>81</td>\n",
       "      <td>23</td>\n",
       "      <td>27</td>\n",
       "      <td>108</td>\n",
       "      <td>3</td>\n",
       "      <td>17</td>\n",
       "    </tr>\n",
       "  </tbody>\n",
       "</table>\n",
       "</div>"
      ],
      "text/plain": [
       "Course_Degree  Arts  Commerce  Computer Applications  Engineering  Management  \\\n",
       "Gender                                                                          \n",
       "F                 8        36                      9           10          55   \n",
       "M                 5        81                     23           27         108   \n",
       "\n",
       "Course_Degree  Others  Science  \n",
       "Gender                          \n",
       "F                   2        7  \n",
       "M                   3       17  "
      ]
     },
     "execution_count": 149,
     "metadata": {},
     "output_type": "execute_result"
    }
   ],
   "source": [
    "ct4 = pd.crosstab(Admission['Gender'], Admission['Course_Degree'])\n",
    "ct4"
   ]
  },
  {
   "cell_type": "code",
   "execution_count": 150,
   "metadata": {},
   "outputs": [
    {
     "name": "stdout",
     "output_type": "stream",
     "text": [
      "(6.307399998205884, 0.3896503520874127, 6, array([[  4.22250639,  38.00255754,  10.39386189,  12.01790281,\n",
      "         52.94373402,   1.62404092,   7.79539642],\n",
      "       [  8.77749361,  78.99744246,  21.60613811,  24.98209719,\n",
      "        110.05626598,   3.37595908,  16.20460358]]))\n"
     ]
    }
   ],
   "source": [
    "print(chi2_contingency(ct4))"
   ]
  },
  {
   "cell_type": "markdown",
   "metadata": {},
   "source": [
    "The pvalue is  0.3896 which is greater than 0.05. SO we can confirm that The proporption of male studied across different Course_Degree are equal to the proportion of female studied across different Course_Degree"
   ]
  },
  {
   "cell_type": "markdown",
   "metadata": {},
   "source": [
    "iii. Is there any influence of gender on the Salary received ?Frame the hypothesis and perform the test.\n",
    "\n",
    "NULL Hypothesis (H0) : The mean of male salaries is equal to the mean of female salaries.\n",
    "    \n",
    "Alternate Hypothesis (H0) : The mean of male salaries is not equal to the mean of female salaries."
   ]
  },
  {
   "cell_type": "code",
   "execution_count": 139,
   "metadata": {},
   "outputs": [
    {
     "data": {
      "text/plain": [
       "((0.8992235660552979, 2.7824496179329472e-12),\n",
       " (0.8867743611335754, 2.187659298158451e-08))"
      ]
     },
     "execution_count": 139,
     "metadata": {},
     "output_type": "execute_result"
    }
   ],
   "source": [
    "# we perform unpaired two sample test of mean\n",
    "\n",
    "male_sal = Admission[Admission['Gender']=='M']['Salary']\n",
    "female_sal = Admission[Admission['Gender']=='F']['Salary']\n",
    "\n",
    "shapiro(male_sal), shapiro(female_sal)"
   ]
  },
  {
   "cell_type": "markdown",
   "metadata": {},
   "source": [
    "Both are less than 0.05, so we must do mannwhitneyu test for these groups as they are not normal."
   ]
  },
  {
   "cell_type": "code",
   "execution_count": 140,
   "metadata": {
    "colab": {},
    "colab_type": "code",
    "id": "9XuJgy7MJ5mP"
   },
   "outputs": [
    {
     "data": {
      "text/plain": [
       "MannwhitneyuResult(statistic=13634.5, pvalue=0.0013237576978127575)"
      ]
     },
     "execution_count": 140,
     "metadata": {},
     "output_type": "execute_result"
    }
   ],
   "source": [
    "from scipy.stats import mannwhitneyu\n",
    "\n",
    "mannwhitneyu(male_sal, female_sal)"
   ]
  },
  {
   "cell_type": "markdown",
   "metadata": {},
   "source": [
    "It is evident that the pvalue is less than 0.05, hence we rejecet the NULL hypothesis.\n",
    "\n",
    "The mean of male salaries is not equal to the mean of female salaries."
   ]
  },
  {
   "cell_type": "code",
   "execution_count": 143,
   "metadata": {},
   "outputs": [
    {
     "data": {
      "image/png": "[encoded data removed]",
      "text/plain": [
       "<Figure size 432x288 with 1 Axes>"
      ]
     },
     "metadata": {
      "needs_background": "light"
     },
     "output_type": "display_data"
    }
   ],
   "source": [
    "#iv. Interpret all the above test results.\n",
    "# Post HOC analysis\n",
    "\n",
    "sns.kdeplot(male_sal, color='black', label='male_salary')\n",
    "plt.axvline(np.mean(male_sal), color='black')\n",
    "sns.kdeplot(female_sal, color='red', label='female_salary')\n",
    "plt.axvline(np.mean(female_sal), color='red')\n",
    "plt.legend()\n",
    "plt.show()"
   ]
  },
  {
   "cell_type": "markdown",
   "metadata": {},
   "source": [
    "It is very evident from the graphs that the mean of both male_salary and female_salary are significantly apart."
   ]
  },
  {
   "cell_type": "markdown",
   "metadata": {},
   "source": [
    "From above test we can conclude that,\n",
    "\n",
    "the proporption of male placed is statistically equal to the proportion of female placed.\n",
    "\n",
    "the proporption of male studied across different boards of SSC are statistically equal to the proportion of female studied across different boards of SSC\n",
    "\n",
    "the proporption of male studied across different boards of HSC are statistically equal to the proportion of female studied across different boards of HSC.\n",
    "\n",
    "The proporption of male studied across different Course_Degree are statistically equal to the proportion of female studied across different Course_Degree"
   ]
  },
  {
   "cell_type": "code",
   "execution_count": null,
   "metadata": {},
   "outputs": [],
   "source": []
  },
  {
   "cell_type": "markdown",
   "metadata": {
    "colab_type": "text",
    "id": "9uWcdAZzJ5mY"
   },
   "source": [
    "<span style=\"font-family: Arial; font-weight:bold;font-size:1.5em;\"> 8.   Give the answers for the following hypothesis. Use the dataframe \"Outlet\".\n",
    "\n",
    "a.\tDoes Item fat content have any effect on item outlet sales?  ( 3 Marks )  \n",
    "\n",
    "b.\tDoes outlet establishment year have any effect on item outlet sales? ( 3 Marks )\n",
    "\n",
    "c.\tDoes item mrp have any effect on item outlet sales? ( 3 Marks )\n",
    "\n",
    "d.\tDoes item visibility have any effect on item outlet sales? ( 3 Marks )\n",
    "\n",
    "e.\tDoes item weight have any effect on item outlet sales?.(Drop the null values in the item weight) \n",
    "(3 Marks )\n",
    "\n",
    "**Note: Assume all the continuous columns are normally distributed and have equal variance.**"
   ]
  },
  {
   "cell_type": "code",
   "execution_count": 108,
   "metadata": {},
   "outputs": [
    {
     "data": {
      "text/html": [
       "<div>\n",
       "<style scoped>\n",
       "    .dataframe tbody tr th:only-of-type {\n",
       "        vertical-align: middle;\n",
       "    }\n",
       "\n",
       "    .dataframe tbody tr th {\n",
       "        vertical-align: top;\n",
       "    }\n",
       "\n",
       "    .dataframe thead th {\n",
       "        text-align: right;\n",
       "    }\n",
       "</style>\n",
       "<table border=\"1\" class=\"dataframe\">\n",
       "  <thead>\n",
       "    <tr style=\"text-align: right;\">\n",
       "      <th></th>\n",
       "      <th>Item_Identifier</th>\n",
       "      <th>Item_Weight</th>\n",
       "      <th>Item_Fat_Content</th>\n",
       "      <th>Item_Visibility</th>\n",
       "      <th>Item_Type</th>\n",
       "      <th>Item_MRP</th>\n",
       "      <th>Outlet_Identifier</th>\n",
       "      <th>Outlet_Establishment_Year</th>\n",
       "      <th>Outlet_Size</th>\n",
       "      <th>Outlet_Location_Type</th>\n",
       "      <th>Outlet_Type</th>\n",
       "      <th>Item_Outlet_Sales</th>\n",
       "    </tr>\n",
       "  </thead>\n",
       "  <tbody>\n",
       "    <tr>\n",
       "      <th>0</th>\n",
       "      <td>FDA15</td>\n",
       "      <td>9.30</td>\n",
       "      <td>Low Fat</td>\n",
       "      <td>0.016047</td>\n",
       "      <td>Dairy</td>\n",
       "      <td>249.8092</td>\n",
       "      <td>OUT049</td>\n",
       "      <td>1999</td>\n",
       "      <td>Medium</td>\n",
       "      <td>Tier 1</td>\n",
       "      <td>Supermarket Type1</td>\n",
       "      <td>3735.1380</td>\n",
       "    </tr>\n",
       "    <tr>\n",
       "      <th>1</th>\n",
       "      <td>DRC01</td>\n",
       "      <td>5.92</td>\n",
       "      <td>Regular</td>\n",
       "      <td>0.019278</td>\n",
       "      <td>Soft Drinks</td>\n",
       "      <td>48.2692</td>\n",
       "      <td>OUT018</td>\n",
       "      <td>2009</td>\n",
       "      <td>Medium</td>\n",
       "      <td>Tier 3</td>\n",
       "      <td>Supermarket Type2</td>\n",
       "      <td>443.4228</td>\n",
       "    </tr>\n",
       "    <tr>\n",
       "      <th>2</th>\n",
       "      <td>FDN15</td>\n",
       "      <td>17.50</td>\n",
       "      <td>Low Fat</td>\n",
       "      <td>0.016760</td>\n",
       "      <td>Meat</td>\n",
       "      <td>141.6180</td>\n",
       "      <td>OUT049</td>\n",
       "      <td>1999</td>\n",
       "      <td>Medium</td>\n",
       "      <td>Tier 1</td>\n",
       "      <td>Supermarket Type1</td>\n",
       "      <td>2097.2700</td>\n",
       "    </tr>\n",
       "  </tbody>\n",
       "</table>\n",
       "</div>"
      ],
      "text/plain": [
       "  Item_Identifier  Item_Weight Item_Fat_Content  Item_Visibility    Item_Type  \\\n",
       "0           FDA15         9.30          Low Fat         0.016047        Dairy   \n",
       "1           DRC01         5.92          Regular         0.019278  Soft Drinks   \n",
       "2           FDN15        17.50          Low Fat         0.016760         Meat   \n",
       "\n",
       "   Item_MRP Outlet_Identifier  Outlet_Establishment_Year Outlet_Size  \\\n",
       "0  249.8092            OUT049                       1999      Medium   \n",
       "1   48.2692            OUT018                       2009      Medium   \n",
       "2  141.6180            OUT049                       1999      Medium   \n",
       "\n",
       "  Outlet_Location_Type        Outlet_Type  Item_Outlet_Sales  \n",
       "0               Tier 1  Supermarket Type1          3735.1380  \n",
       "1               Tier 3  Supermarket Type2           443.4228  \n",
       "2               Tier 1  Supermarket Type1          2097.2700  "
      ]
     },
     "execution_count": 108,
     "metadata": {},
     "output_type": "execute_result"
    }
   ],
   "source": [
    "Outlet.head(3)"
   ]
  },
  {
   "cell_type": "code",
   "execution_count": 153,
   "metadata": {},
   "outputs": [
    {
     "data": {
      "text/plain": [
       "Low Fat    657\n",
       "Regular    339\n",
       "Name: Item_Fat_Content, dtype: int64"
      ]
     },
     "execution_count": 153,
     "metadata": {},
     "output_type": "execute_result"
    }
   ],
   "source": [
    "#a. Does Item fat content have any effect on item outlet sales?\n",
    "\n",
    "Outlet['Item_Fat_Content'].value_counts()"
   ]
  },
  {
   "cell_type": "markdown",
   "metadata": {},
   "source": [
    "Null Hypothesis (H0) : The mean of Low fat items is equal to the mean of Regualr fat content.\n",
    "    \n",
    "Alternate Hypothesis (H0) : The mean of Low fat items is not equal to the mean of Regualr fat content."
   ]
  },
  {
   "cell_type": "code",
   "execution_count": 157,
   "metadata": {},
   "outputs": [
    {
     "data": {
      "text/plain": [
       "((0.9038751721382141, 6.643526939113784e-20),\n",
       " (0.9009637236595154, 4.4631375553877764e-14))"
      ]
     },
     "execution_count": 157,
     "metadata": {},
     "output_type": "execute_result"
    }
   ],
   "source": [
    "# we perform unpaired two sample t test\n",
    "\n",
    "Low_fat_sales = Outlet[Outlet['Item_Fat_Content']=='Low Fat']['Item_Outlet_Sales']\n",
    "Regular_fat_sales = Outlet[Outlet['Item_Fat_Content']=='Regular']['Item_Outlet_Sales']\n",
    "\n",
    "shapiro(Low_fat_sales), shapiro(Regular_fat_sales)"
   ]
  },
  {
   "cell_type": "markdown",
   "metadata": {
    "colab": {},
    "colab_type": "code",
    "id": "pzLIu4EvJ5mw"
   },
   "source": [
    "Both are skewed and not normally distributed."
   ]
  },
  {
   "cell_type": "code",
   "execution_count": 158,
   "metadata": {},
   "outputs": [
    {
     "data": {
      "text/plain": [
       "MannwhitneyuResult(statistic=108093.0, pvalue=0.22371660223374507)"
      ]
     },
     "execution_count": 158,
     "metadata": {},
     "output_type": "execute_result"
    }
   ],
   "source": [
    "mannwhitneyu(Low_fat_sales, Regular_fat_sales)"
   ]
  },
  {
   "cell_type": "markdown",
   "metadata": {},
   "source": [
    "It is very evident that the sales isn't get affected by the Items Fat Content. The mean of them are statistically equal."
   ]
  },
  {
   "cell_type": "code",
   "execution_count": 169,
   "metadata": {},
   "outputs": [
    {
     "data": {
      "text/plain": [
       "(numpy.int64, numpy.float64)"
      ]
     },
     "execution_count": 169,
     "metadata": {},
     "output_type": "execute_result"
    }
   ],
   "source": [
    "# b.\tDoes outlet establishment year have any effect on item outlet sales?\n",
    "\n",
    "type(Outlet['Outlet_Establishment_Year'][0]), type(Outlet['Item_Outlet_Sales'][0])"
   ]
  },
  {
   "cell_type": "code",
   "execution_count": 171,
   "metadata": {},
   "outputs": [
    {
     "data": {
      "text/html": [
       "<div>\n",
       "<style scoped>\n",
       "    .dataframe tbody tr th:only-of-type {\n",
       "        vertical-align: middle;\n",
       "    }\n",
       "\n",
       "    .dataframe tbody tr th {\n",
       "        vertical-align: top;\n",
       "    }\n",
       "\n",
       "    .dataframe thead th {\n",
       "        text-align: right;\n",
       "    }\n",
       "</style>\n",
       "<table border=\"1\" class=\"dataframe\">\n",
       "  <thead>\n",
       "    <tr style=\"text-align: right;\">\n",
       "      <th></th>\n",
       "      <th>Outlet_Establishment_Year</th>\n",
       "      <th>Item_Outlet_Sales</th>\n",
       "    </tr>\n",
       "  </thead>\n",
       "  <tbody>\n",
       "    <tr>\n",
       "      <th>Outlet_Establishment_Year</th>\n",
       "      <td>1.00000</td>\n",
       "      <td>-0.03069</td>\n",
       "    </tr>\n",
       "    <tr>\n",
       "      <th>Item_Outlet_Sales</th>\n",
       "      <td>-0.03069</td>\n",
       "      <td>1.00000</td>\n",
       "    </tr>\n",
       "  </tbody>\n",
       "</table>\n",
       "</div>"
      ],
      "text/plain": [
       "                           Outlet_Establishment_Year  Item_Outlet_Sales\n",
       "Outlet_Establishment_Year                    1.00000           -0.03069\n",
       "Item_Outlet_Sales                           -0.03069            1.00000"
      ]
     },
     "execution_count": 171,
     "metadata": {},
     "output_type": "execute_result"
    }
   ],
   "source": [
    "# Both of them are numerical hence we can do correlation test\n",
    "\n",
    "Outlet[['Outlet_Establishment_Year', 'Item_Outlet_Sales']].corr()"
   ]
  },
  {
   "cell_type": "markdown",
   "metadata": {},
   "source": [
    "From the correlation matrix it is understood that the continuous features Outlet_Establishment_Year and Item_Outlet_Sales are \"very weakly corerlated\".\n",
    "\n",
    "Also the negative sign before the value suggests that they are indirectly proportional to each other. As the Year increases the sales decreases."
   ]
  },
  {
   "cell_type": "code",
   "execution_count": 173,
   "metadata": {},
   "outputs": [
    {
     "data": {
      "text/plain": [
       "(numpy.float64, numpy.float64)"
      ]
     },
     "execution_count": 173,
     "metadata": {},
     "output_type": "execute_result"
    }
   ],
   "source": [
    "# c.\tDoes item mrp have any effect on item outlet sales?\n",
    "\n",
    "type(Outlet['Item_MRP'][0]), type(Outlet['Item_Outlet_Sales'][0])"
   ]
  },
  {
   "cell_type": "code",
   "execution_count": 174,
   "metadata": {},
   "outputs": [
    {
     "data": {
      "text/html": [
       "<div>\n",
       "<style scoped>\n",
       "    .dataframe tbody tr th:only-of-type {\n",
       "        vertical-align: middle;\n",
       "    }\n",
       "\n",
       "    .dataframe tbody tr th {\n",
       "        vertical-align: top;\n",
       "    }\n",
       "\n",
       "    .dataframe thead th {\n",
       "        text-align: right;\n",
       "    }\n",
       "</style>\n",
       "<table border=\"1\" class=\"dataframe\">\n",
       "  <thead>\n",
       "    <tr style=\"text-align: right;\">\n",
       "      <th></th>\n",
       "      <th>Item_MRP</th>\n",
       "      <th>Item_Outlet_Sales</th>\n",
       "    </tr>\n",
       "  </thead>\n",
       "  <tbody>\n",
       "    <tr>\n",
       "      <th>Item_MRP</th>\n",
       "      <td>1.000000</td>\n",
       "      <td>0.578781</td>\n",
       "    </tr>\n",
       "    <tr>\n",
       "      <th>Item_Outlet_Sales</th>\n",
       "      <td>0.578781</td>\n",
       "      <td>1.000000</td>\n",
       "    </tr>\n",
       "  </tbody>\n",
       "</table>\n",
       "</div>"
      ],
      "text/plain": [
       "                   Item_MRP  Item_Outlet_Sales\n",
       "Item_MRP           1.000000           0.578781\n",
       "Item_Outlet_Sales  0.578781           1.000000"
      ]
     },
     "execution_count": 174,
     "metadata": {},
     "output_type": "execute_result"
    }
   ],
   "source": [
    "# Both of them are numerical hence we can do correlation test\n",
    "\n",
    "Outlet[['Item_MRP', 'Item_Outlet_Sales']].corr()"
   ]
  },
  {
   "cell_type": "markdown",
   "metadata": {},
   "source": [
    "From the correlation matrix it is understood that the continuous features Item_MRP and Item_Outlet_Sales are \"moderately strongly corerlated\".\n",
    "\n",
    "Also the positive sign before the value suggests that they are directly proportional to each other. As the MRP increases the Sales also increases."
   ]
  },
  {
   "cell_type": "code",
   "execution_count": 178,
   "metadata": {},
   "outputs": [
    {
     "data": {
      "text/plain": [
       "(numpy.float64, numpy.float64)"
      ]
     },
     "execution_count": 178,
     "metadata": {},
     "output_type": "execute_result"
    }
   ],
   "source": [
    "# d.\tDoes item visibility have any effect on item outlet sales?\n",
    "\n",
    "type(Outlet['Item_Visibility'][0]), type(Outlet['Item_Outlet_Sales'][0])"
   ]
  },
  {
   "cell_type": "code",
   "execution_count": 179,
   "metadata": {},
   "outputs": [
    {
     "data": {
      "text/html": [
       "<div>\n",
       "<style scoped>\n",
       "    .dataframe tbody tr th:only-of-type {\n",
       "        vertical-align: middle;\n",
       "    }\n",
       "\n",
       "    .dataframe tbody tr th {\n",
       "        vertical-align: top;\n",
       "    }\n",
       "\n",
       "    .dataframe thead th {\n",
       "        text-align: right;\n",
       "    }\n",
       "</style>\n",
       "<table border=\"1\" class=\"dataframe\">\n",
       "  <thead>\n",
       "    <tr style=\"text-align: right;\">\n",
       "      <th></th>\n",
       "      <th>Item_Visibility</th>\n",
       "      <th>Item_Outlet_Sales</th>\n",
       "    </tr>\n",
       "  </thead>\n",
       "  <tbody>\n",
       "    <tr>\n",
       "      <th>Item_Visibility</th>\n",
       "      <td>1.000000</td>\n",
       "      <td>-0.093296</td>\n",
       "    </tr>\n",
       "    <tr>\n",
       "      <th>Item_Outlet_Sales</th>\n",
       "      <td>-0.093296</td>\n",
       "      <td>1.000000</td>\n",
       "    </tr>\n",
       "  </tbody>\n",
       "</table>\n",
       "</div>"
      ],
      "text/plain": [
       "                   Item_Visibility  Item_Outlet_Sales\n",
       "Item_Visibility           1.000000          -0.093296\n",
       "Item_Outlet_Sales        -0.093296           1.000000"
      ]
     },
     "execution_count": 179,
     "metadata": {},
     "output_type": "execute_result"
    }
   ],
   "source": [
    "# Both of them are numerical hence we can do correlation test\n",
    "\n",
    "Outlet[['Item_Visibility', 'Item_Outlet_Sales']].corr()"
   ]
  },
  {
   "cell_type": "markdown",
   "metadata": {},
   "source": [
    "From the correlation matrix it is understood that the continuous features Item_Visibility and Item_Outlet_Sales are \"very weaklky corerlated\".\n",
    "\n",
    "Also the negative sign before the value suggests that they are indirectly proportional to each other. As the MRP increases the Sales descreases."
   ]
  },
  {
   "cell_type": "code",
   "execution_count": 181,
   "metadata": {},
   "outputs": [
    {
     "data": {
      "text/plain": [
       "(numpy.float64, numpy.float64)"
      ]
     },
     "execution_count": 181,
     "metadata": {},
     "output_type": "execute_result"
    }
   ],
   "source": [
    "# e.\tDoes item weight have any effect on item outlet sales?.(Drop the null values in the item weight) \n",
    "\n",
    "type(Outlet['Item_Weight'][0]), type(Outlet['Item_Outlet_Sales'][0])"
   ]
  },
  {
   "cell_type": "code",
   "execution_count": 185,
   "metadata": {},
   "outputs": [],
   "source": [
    "Outlet['Item_Weight'].dropna(inplace=True)"
   ]
  },
  {
   "cell_type": "code",
   "execution_count": 186,
   "metadata": {},
   "outputs": [
    {
     "data": {
      "text/html": [
       "<div>\n",
       "<style scoped>\n",
       "    .dataframe tbody tr th:only-of-type {\n",
       "        vertical-align: middle;\n",
       "    }\n",
       "\n",
       "    .dataframe tbody tr th {\n",
       "        vertical-align: top;\n",
       "    }\n",
       "\n",
       "    .dataframe thead th {\n",
       "        text-align: right;\n",
       "    }\n",
       "</style>\n",
       "<table border=\"1\" class=\"dataframe\">\n",
       "  <thead>\n",
       "    <tr style=\"text-align: right;\">\n",
       "      <th></th>\n",
       "      <th>Item_Weight</th>\n",
       "      <th>Item_Outlet_Sales</th>\n",
       "    </tr>\n",
       "  </thead>\n",
       "  <tbody>\n",
       "    <tr>\n",
       "      <th>Item_Weight</th>\n",
       "      <td>1.000000</td>\n",
       "      <td>0.020104</td>\n",
       "    </tr>\n",
       "    <tr>\n",
       "      <th>Item_Outlet_Sales</th>\n",
       "      <td>0.020104</td>\n",
       "      <td>1.000000</td>\n",
       "    </tr>\n",
       "  </tbody>\n",
       "</table>\n",
       "</div>"
      ],
      "text/plain": [
       "                   Item_Weight  Item_Outlet_Sales\n",
       "Item_Weight           1.000000           0.020104\n",
       "Item_Outlet_Sales     0.020104           1.000000"
      ]
     },
     "execution_count": 186,
     "metadata": {},
     "output_type": "execute_result"
    }
   ],
   "source": [
    "# Both of them are numerical hence we can do correlation test\n",
    "\n",
    "Outlet[['Item_Weight', 'Item_Outlet_Sales']].corr()"
   ]
  },
  {
   "cell_type": "markdown",
   "metadata": {},
   "source": [
    "From the correlation matrix it is understood that the continuous features Item_Weight and Item_Outlet_Sales are \"very weakly corerlated\".\n",
    "\n",
    "Also the positive sign before the value suggests that they are directly proportional to each other. As the Weight increases the Sales also increases."
   ]
  },
  {
   "cell_type": "code",
   "execution_count": null,
   "metadata": {},
   "outputs": [],
   "source": []
  }
 ],
 "metadata": {
  "colab": {
   "name": "Final_STAT_Set7_Question.ipynb",
   "provenance": []
  },
  "kernelspec": {
   "display_name": "Python 3",
   "language": "python",
   "name": "python3"
  },
  "language_info": {
   "codemirror_mode": {
    "name": "ipython",
    "version": 3
   },
   "file_extension": ".py",
   "mimetype": "text/x-python",
   "name": "python",
   "nbconvert_exporter": "python",
   "pygments_lexer": "ipython3",
   "version": "3.8.5"
  }
 },
 "nbformat": 4,
 "nbformat_minor": 1
}
